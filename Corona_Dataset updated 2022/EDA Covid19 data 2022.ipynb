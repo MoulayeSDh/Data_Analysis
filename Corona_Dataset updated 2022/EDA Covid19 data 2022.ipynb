{
 "cells": [
  {
   "cell_type": "code",
   "execution_count": 1,
   "id": "b93500e4",
   "metadata": {},
   "outputs": [],
   "source": [
    "import numpy as np\n",
    "import pandas as pd \n",
    "import seaborn as sns\n",
    "import matplotlib.pyplot as plt\n",
    "import plotly.express as px "
   ]
  },
  {
   "cell_type": "markdown",
   "id": "674433e3",
   "metadata": {},
   "source": [
    "LOADING AND CLEANING DATA "
   ]
  },
  {
   "cell_type": "code",
   "execution_count": 2,
   "id": "145a93ae",
   "metadata": {},
   "outputs": [
    {
     "data": {
      "text/html": [
       "<div>\n",
       "<style scoped>\n",
       "    .dataframe tbody tr th:only-of-type {\n",
       "        vertical-align: middle;\n",
       "    }\n",
       "\n",
       "    .dataframe tbody tr th {\n",
       "        vertical-align: top;\n",
       "    }\n",
       "\n",
       "    .dataframe thead th {\n",
       "        text-align: right;\n",
       "    }\n",
       "</style>\n",
       "<table border=\"1\" class=\"dataframe\">\n",
       "  <thead>\n",
       "    <tr style=\"text-align: right;\">\n",
       "      <th></th>\n",
       "      <th>Country</th>\n",
       "      <th>Total Cases</th>\n",
       "      <th>Total Deaths</th>\n",
       "      <th>Total Recovered</th>\n",
       "      <th>Active Cases</th>\n",
       "      <th>Serious/critical</th>\n",
       "      <th>Tot Cases/ 1M pop</th>\n",
       "      <th>Deaths/ 1M pop</th>\n",
       "      <th>Total Tests</th>\n",
       "      <th>Tests per 1M pop</th>\n",
       "      <th>Population</th>\n",
       "      <th>Continent</th>\n",
       "    </tr>\n",
       "  </thead>\n",
       "  <tbody>\n",
       "    <tr>\n",
       "      <th>0</th>\n",
       "      <td>USA</td>\n",
       "      <td>10,18,65,927</td>\n",
       "      <td>11,13,808</td>\n",
       "      <td>9,89,76,943</td>\n",
       "      <td>17,75,176</td>\n",
       "      <td>3,990</td>\n",
       "      <td>3,04,254</td>\n",
       "      <td>3,327</td>\n",
       "      <td>1,14,94,72,864</td>\n",
       "      <td>34,33,258</td>\n",
       "      <td>33,48,05,269</td>\n",
       "      <td>North America</td>\n",
       "    </tr>\n",
       "    <tr>\n",
       "      <th>1</th>\n",
       "      <td>India</td>\n",
       "      <td>4,46,77,449</td>\n",
       "      <td>5,30,680</td>\n",
       "      <td>4,41,42,242</td>\n",
       "      <td>4,527</td>\n",
       "      <td>698</td>\n",
       "      <td>31,762</td>\n",
       "      <td>377</td>\n",
       "      <td>90,92,84,443</td>\n",
       "      <td>6,46,427</td>\n",
       "      <td>1,40,66,31,776</td>\n",
       "      <td>Asia</td>\n",
       "    </tr>\n",
       "    <tr>\n",
       "      <th>2</th>\n",
       "      <td>France</td>\n",
       "      <td>3,89,71,117</td>\n",
       "      <td>1,60,747</td>\n",
       "      <td>3,76,86,052</td>\n",
       "      <td>11,24,318</td>\n",
       "      <td>869</td>\n",
       "      <td>5,94,212</td>\n",
       "      <td>2,451</td>\n",
       "      <td>27,14,90,188</td>\n",
       "      <td>41,39,547</td>\n",
       "      <td>6,55,84,518</td>\n",
       "      <td>Europe</td>\n",
       "    </tr>\n",
       "    <tr>\n",
       "      <th>3</th>\n",
       "      <td>Germany</td>\n",
       "      <td>3,70,88,426</td>\n",
       "      <td>1,60,246</td>\n",
       "      <td>3,63,46,100</td>\n",
       "      <td>5,82,080</td>\n",
       "      <td>1,406</td>\n",
       "      <td>4,42,142</td>\n",
       "      <td>1,910</td>\n",
       "      <td>12,23,32,384</td>\n",
       "      <td>14,58,359</td>\n",
       "      <td>8,38,83,596</td>\n",
       "      <td>Europe</td>\n",
       "    </tr>\n",
       "    <tr>\n",
       "      <th>4</th>\n",
       "      <td>Brazil</td>\n",
       "      <td>3,59,92,620</td>\n",
       "      <td>6,92,210</td>\n",
       "      <td>3,46,63,955</td>\n",
       "      <td>6,36,455</td>\n",
       "      <td>8,318</td>\n",
       "      <td>1,67,133</td>\n",
       "      <td>3,214</td>\n",
       "      <td>6,37,76,166</td>\n",
       "      <td>2,96,146</td>\n",
       "      <td>21,53,53,593</td>\n",
       "      <td>South America</td>\n",
       "    </tr>\n",
       "  </tbody>\n",
       "</table>\n",
       "</div>"
      ],
      "text/plain": [
       "   Country   Total Cases Total Deaths Total Recovered Active Cases  \\\n",
       "0      USA  10,18,65,927    11,13,808     9,89,76,943    17,75,176   \n",
       "1    India   4,46,77,449     5,30,680     4,41,42,242        4,527   \n",
       "2   France   3,89,71,117     1,60,747     3,76,86,052    11,24,318   \n",
       "3  Germany   3,70,88,426     1,60,246     3,63,46,100     5,82,080   \n",
       "4   Brazil   3,59,92,620     6,92,210     3,46,63,955     6,36,455   \n",
       "\n",
       "  Serious/critical Tot Cases/ 1M pop Deaths/ 1M pop     Total Tests  \\\n",
       "0            3,990          3,04,254          3,327  1,14,94,72,864   \n",
       "1              698            31,762            377    90,92,84,443   \n",
       "2              869          5,94,212          2,451    27,14,90,188   \n",
       "3            1,406          4,42,142          1,910    12,23,32,384   \n",
       "4            8,318          1,67,133          3,214     6,37,76,166   \n",
       "\n",
       "  Tests per 1M pop      Population      Continent  \n",
       "0        34,33,258    33,48,05,269  North America  \n",
       "1         6,46,427  1,40,66,31,776           Asia  \n",
       "2        41,39,547     6,55,84,518         Europe  \n",
       "3        14,58,359     8,38,83,596         Europe  \n",
       "4         2,96,146    21,53,53,593  South America  "
      ]
     },
     "execution_count": 2,
     "metadata": {},
     "output_type": "execute_result"
    }
   ],
   "source": [
    "df=  pd.read_csv(\"corona_data_2022.csv\")\n",
    "pd.set_option('display.max_row', None)\n",
    "df.head()"
   ]
  },
  {
   "cell_type": "code",
   "execution_count": 17,
   "id": "060ace4e",
   "metadata": {},
   "outputs": [
    {
     "data": {
      "text/plain": [
       "(128, 12)"
      ]
     },
     "execution_count": 17,
     "metadata": {},
     "output_type": "execute_result"
    }
   ],
   "source": [
    "df.shape"
   ]
  },
  {
   "cell_type": "code",
   "execution_count": 100,
   "id": "f1783c4e",
   "metadata": {},
   "outputs": [
    {
     "name": "stdout",
     "output_type": "stream",
     "text": [
      "<class 'pandas.core.frame.DataFrame'>\n",
      "RangeIndex: 228 entries, 0 to 227\n",
      "Data columns (total 12 columns):\n",
      " #   Column             Non-Null Count  Dtype \n",
      "---  ------             --------------  ----- \n",
      " 0   Country            228 non-null    object\n",
      " 1   Total Cases        228 non-null    object\n",
      " 2   Total Deaths       223 non-null    object\n",
      " 3   Total Recovered    208 non-null    object\n",
      " 4   Active Cases       209 non-null    object\n",
      " 5   Serious/critical   141 non-null    object\n",
      " 6   Tot Cases/ 1M pop  228 non-null    object\n",
      " 7   Deaths/ 1M pop     223 non-null    object\n",
      " 8   Total Tests        213 non-null    object\n",
      " 9   Tests per 1M pop   213 non-null    object\n",
      " 10  Population         228 non-null    object\n",
      " 11  Continent          228 non-null    object\n",
      "dtypes: object(12)\n",
      "memory usage: 21.5+ KB\n"
     ]
    }
   ],
   "source": [
    "df.info()"
   ]
  },
  {
   "cell_type": "code",
   "execution_count": 34,
   "id": "02b652e9",
   "metadata": {},
   "outputs": [
    {
     "data": {
      "text/plain": [
       "Country              0.0\n",
       "Total Cases          0.0\n",
       "Total Deaths         0.0\n",
       "Total Recovered      0.0\n",
       "Active Cases         0.0\n",
       "Serious/critical     0.0\n",
       "Tot Cases/ 1M pop    0.0\n",
       "Deaths/ 1M pop       0.0\n",
       "Total Tests          0.0\n",
       "Tests per 1M pop     0.0\n",
       "Population           0.0\n",
       "Continent            0.0\n",
       "dtype: float64"
      ]
     },
     "execution_count": 34,
     "metadata": {},
     "output_type": "execute_result"
    }
   ],
   "source": [
    "#Null in %\n",
    "(df.isnull().sum()/df.shape[0])*100"
   ]
  },
  {
   "cell_type": "code",
   "execution_count": 104,
   "id": "6c2530fa",
   "metadata": {},
   "outputs": [
    {
     "data": {
      "text/plain": [
       "0"
      ]
     },
     "execution_count": 104,
     "metadata": {},
     "output_type": "execute_result"
    }
   ],
   "source": [
    "df.duplicated().sum()"
   ]
  },
  {
   "cell_type": "code",
   "execution_count": 103,
   "id": "248b5676",
   "metadata": {},
   "outputs": [
    {
     "data": {
      "text/html": [
       "<div>\n",
       "<style scoped>\n",
       "    .dataframe tbody tr th:only-of-type {\n",
       "        vertical-align: middle;\n",
       "    }\n",
       "\n",
       "    .dataframe tbody tr th {\n",
       "        vertical-align: top;\n",
       "    }\n",
       "\n",
       "    .dataframe thead th {\n",
       "        text-align: right;\n",
       "    }\n",
       "</style>\n",
       "<table border=\"1\" class=\"dataframe\">\n",
       "  <thead>\n",
       "    <tr style=\"text-align: right;\">\n",
       "      <th></th>\n",
       "      <th>Country</th>\n",
       "      <th>Total Cases</th>\n",
       "      <th>Total Deaths</th>\n",
       "      <th>Total Recovered</th>\n",
       "      <th>Active Cases</th>\n",
       "      <th>Serious/critical</th>\n",
       "      <th>Tot Cases/ 1M pop</th>\n",
       "      <th>Deaths/ 1M pop</th>\n",
       "      <th>Total Tests</th>\n",
       "      <th>Tests per 1M pop</th>\n",
       "      <th>Population</th>\n",
       "      <th>Continent</th>\n",
       "    </tr>\n",
       "  </thead>\n",
       "  <tbody>\n",
       "    <tr>\n",
       "      <th>10</th>\n",
       "      <td>Turkey</td>\n",
       "      <td>1,70,42,722</td>\n",
       "      <td>1,01,492</td>\n",
       "      <td>NaN</td>\n",
       "      <td>NaN</td>\n",
       "      <td>NaN</td>\n",
       "      <td>1,99,186</td>\n",
       "      <td>1,186</td>\n",
       "      <td>16,27,43,369</td>\n",
       "      <td>19,02,052</td>\n",
       "      <td>8,55,61,976</td>\n",
       "      <td>Asia</td>\n",
       "    </tr>\n",
       "    <tr>\n",
       "      <th>15</th>\n",
       "      <td>Taiwan</td>\n",
       "      <td>86,24,680</td>\n",
       "      <td>14,958</td>\n",
       "      <td>83,14,069</td>\n",
       "      <td>2,95,653</td>\n",
       "      <td>NaN</td>\n",
       "      <td>3,61,038</td>\n",
       "      <td>626</td>\n",
       "      <td>2,89,83,590</td>\n",
       "      <td>12,13,281</td>\n",
       "      <td>2,38,88,595</td>\n",
       "      <td>Asia</td>\n",
       "    </tr>\n",
       "    <tr>\n",
       "      <th>25</th>\n",
       "      <td>Ukraine</td>\n",
       "      <td>53,50,380</td>\n",
       "      <td>1,10,696</td>\n",
       "      <td>52,30,588</td>\n",
       "      <td>9,096</td>\n",
       "      <td>NaN</td>\n",
       "      <td>1,23,874</td>\n",
       "      <td>2,563</td>\n",
       "      <td>3,26,03,805</td>\n",
       "      <td>7,54,855</td>\n",
       "      <td>4,31,92,122</td>\n",
       "      <td>Europe</td>\n",
       "    </tr>\n",
       "    <tr>\n",
       "      <th>28</th>\n",
       "      <td>DPRK</td>\n",
       "      <td>47,72,813</td>\n",
       "      <td>74</td>\n",
       "      <td>47,72,739</td>\n",
       "      <td>0</td>\n",
       "      <td>NaN</td>\n",
       "      <td>1,83,636</td>\n",
       "      <td>3</td>\n",
       "      <td>NaN</td>\n",
       "      <td>NaN</td>\n",
       "      <td>2,59,90,679</td>\n",
       "      <td>Asia</td>\n",
       "    </tr>\n",
       "    <tr>\n",
       "      <th>46</th>\n",
       "      <td>New Zealand</td>\n",
       "      <td>20,62,384</td>\n",
       "      <td>3,435</td>\n",
       "      <td>20,17,409</td>\n",
       "      <td>41,540</td>\n",
       "      <td>NaN</td>\n",
       "      <td>4,21,049</td>\n",
       "      <td>701</td>\n",
       "      <td>76,77,843</td>\n",
       "      <td>15,67,482</td>\n",
       "      <td>48,98,203</td>\n",
       "      <td>Australia/Oceania</td>\n",
       "    </tr>\n",
       "    <tr>\n",
       "      <th>49</th>\n",
       "      <td>Georgia</td>\n",
       "      <td>18,08,085</td>\n",
       "      <td>16,895</td>\n",
       "      <td>17,76,548</td>\n",
       "      <td>14,642</td>\n",
       "      <td>NaN</td>\n",
       "      <td>4,55,582</td>\n",
       "      <td>4,257</td>\n",
       "      <td>1,69,20,079</td>\n",
       "      <td>42,63,340</td>\n",
       "      <td>39,68,738</td>\n",
       "      <td>Asia</td>\n",
       "    </tr>\n",
       "    <tr>\n",
       "      <th>67</th>\n",
       "      <td>UAE</td>\n",
       "      <td>10,46,359</td>\n",
       "      <td>2,348</td>\n",
       "      <td>10,28,097</td>\n",
       "      <td>15,914</td>\n",
       "      <td>NaN</td>\n",
       "      <td>1,03,787</td>\n",
       "      <td>233</td>\n",
       "      <td>19,77,62,706</td>\n",
       "      <td>1,96,15,842</td>\n",
       "      <td>1,00,81,785</td>\n",
       "      <td>Asia</td>\n",
       "    </tr>\n",
       "    <tr>\n",
       "      <th>72</th>\n",
       "      <td>Nepal</td>\n",
       "      <td>10,00,959</td>\n",
       "      <td>12,019</td>\n",
       "      <td>9,88,921</td>\n",
       "      <td>19</td>\n",
       "      <td>NaN</td>\n",
       "      <td>33,116</td>\n",
       "      <td>398</td>\n",
       "      <td>59,85,814</td>\n",
       "      <td>1,98,038</td>\n",
       "      <td>3,02,25,582</td>\n",
       "      <td>Asia</td>\n",
       "    </tr>\n",
       "    <tr>\n",
       "      <th>73</th>\n",
       "      <td>Belarus</td>\n",
       "      <td>9,94,037</td>\n",
       "      <td>7,118</td>\n",
       "      <td>9,85,592</td>\n",
       "      <td>1,327</td>\n",
       "      <td>NaN</td>\n",
       "      <td>1,05,381</td>\n",
       "      <td>755</td>\n",
       "      <td>1,36,46,641</td>\n",
       "      <td>14,46,722</td>\n",
       "      <td>94,32,800</td>\n",
       "      <td>Europe</td>\n",
       "    </tr>\n",
       "    <tr>\n",
       "      <th>76</th>\n",
       "      <td>Azerbaijan</td>\n",
       "      <td>8,25,527</td>\n",
       "      <td>9,997</td>\n",
       "      <td>8,14,944</td>\n",
       "      <td>586</td>\n",
       "      <td>NaN</td>\n",
       "      <td>80,147</td>\n",
       "      <td>971</td>\n",
       "      <td>74,10,224</td>\n",
       "      <td>7,19,425</td>\n",
       "      <td>1,03,00,205</td>\n",
       "      <td>Asia</td>\n",
       "    </tr>\n",
       "    <tr>\n",
       "      <th>79</th>\n",
       "      <td>Sri Lanka</td>\n",
       "      <td>6,71,831</td>\n",
       "      <td>16,814</td>\n",
       "      <td>6,54,980</td>\n",
       "      <td>37</td>\n",
       "      <td>NaN</td>\n",
       "      <td>31,138</td>\n",
       "      <td>779</td>\n",
       "      <td>64,86,117</td>\n",
       "      <td>3,00,619</td>\n",
       "      <td>2,15,75,842</td>\n",
       "      <td>Asia</td>\n",
       "    </tr>\n",
       "    <tr>\n",
       "      <th>80</th>\n",
       "      <td>Kuwait</td>\n",
       "      <td>6,62,747</td>\n",
       "      <td>2,570</td>\n",
       "      <td>6,60,095</td>\n",
       "      <td>82</td>\n",
       "      <td>NaN</td>\n",
       "      <td>1,51,301</td>\n",
       "      <td>587</td>\n",
       "      <td>84,47,300</td>\n",
       "      <td>19,28,464</td>\n",
       "      <td>43,80,326</td>\n",
       "      <td>Asia</td>\n",
       "    </tr>\n",
       "    <tr>\n",
       "      <th>82</th>\n",
       "      <td>Myanmar</td>\n",
       "      <td>6,33,575</td>\n",
       "      <td>19,488</td>\n",
       "      <td>6,08,147</td>\n",
       "      <td>5,940</td>\n",
       "      <td>NaN</td>\n",
       "      <td>11,472</td>\n",
       "      <td>353</td>\n",
       "      <td>97,70,528</td>\n",
       "      <td>1,76,915</td>\n",
       "      <td>5,52,27,143</td>\n",
       "      <td>Asia</td>\n",
       "    </tr>\n",
       "    <tr>\n",
       "      <th>89</th>\n",
       "      <td>Libya</td>\n",
       "      <td>5,07,121</td>\n",
       "      <td>6,437</td>\n",
       "      <td>5,00,655</td>\n",
       "      <td>29</td>\n",
       "      <td>NaN</td>\n",
       "      <td>72,027</td>\n",
       "      <td>914</td>\n",
       "      <td>24,83,446</td>\n",
       "      <td>3,52,725</td>\n",
       "      <td>70,40,745</td>\n",
       "      <td>Africa</td>\n",
       "    </tr>\n",
       "    <tr>\n",
       "      <th>94</th>\n",
       "      <td>Armenia</td>\n",
       "      <td>4,45,881</td>\n",
       "      <td>8,712</td>\n",
       "      <td>4,35,060</td>\n",
       "      <td>2,109</td>\n",
       "      <td>NaN</td>\n",
       "      <td>1,50,029</td>\n",
       "      <td>2,931</td>\n",
       "      <td>32,40,491</td>\n",
       "      <td>10,90,353</td>\n",
       "      <td>29,71,966</td>\n",
       "      <td>Asia</td>\n",
       "    </tr>\n",
       "    <tr>\n",
       "      <th>95</th>\n",
       "      <td>Bosnia and Herzegovina</td>\n",
       "      <td>4,00,842</td>\n",
       "      <td>16,220</td>\n",
       "      <td>3,78,619</td>\n",
       "      <td>6,003</td>\n",
       "      <td>NaN</td>\n",
       "      <td>1,23,362</td>\n",
       "      <td>4,992</td>\n",
       "      <td>18,81,275</td>\n",
       "      <td>5,78,976</td>\n",
       "      <td>32,49,317</td>\n",
       "      <td>Europe</td>\n",
       "    </tr>\n",
       "    <tr>\n",
       "      <th>98</th>\n",
       "      <td>North Macedonia</td>\n",
       "      <td>3,45,197</td>\n",
       "      <td>9,599</td>\n",
       "      <td>3,35,465</td>\n",
       "      <td>133</td>\n",
       "      <td>NaN</td>\n",
       "      <td>1,65,856</td>\n",
       "      <td>4,612</td>\n",
       "      <td>21,41,032</td>\n",
       "      <td>10,28,697</td>\n",
       "      <td>20,81,304</td>\n",
       "      <td>Europe</td>\n",
       "    </tr>\n",
       "    <tr>\n",
       "      <th>100</th>\n",
       "      <td>Zambia</td>\n",
       "      <td>3,33,746</td>\n",
       "      <td>4,019</td>\n",
       "      <td>3,29,690</td>\n",
       "      <td>37</td>\n",
       "      <td>NaN</td>\n",
       "      <td>17,141</td>\n",
       "      <td>206</td>\n",
       "      <td>37,65,147</td>\n",
       "      <td>1,93,380</td>\n",
       "      <td>1,94,70,234</td>\n",
       "      <td>Africa</td>\n",
       "    </tr>\n",
       "    <tr>\n",
       "      <th>101</th>\n",
       "      <td>Albania</td>\n",
       "      <td>3,33,686</td>\n",
       "      <td>3,594</td>\n",
       "      <td>3,28,473</td>\n",
       "      <td>1,619</td>\n",
       "      <td>NaN</td>\n",
       "      <td>1,16,414</td>\n",
       "      <td>1,254</td>\n",
       "      <td>19,41,032</td>\n",
       "      <td>6,77,173</td>\n",
       "      <td>28,66,374</td>\n",
       "      <td>Europe</td>\n",
       "    </tr>\n",
       "    <tr>\n",
       "      <th>103</th>\n",
       "      <td>Luxembourg</td>\n",
       "      <td>2,97,757</td>\n",
       "      <td>1,133</td>\n",
       "      <td>2,88,991</td>\n",
       "      <td>7,633</td>\n",
       "      <td>NaN</td>\n",
       "      <td>4,63,528</td>\n",
       "      <td>1,764</td>\n",
       "      <td>44,12,567</td>\n",
       "      <td>68,69,188</td>\n",
       "      <td>6,42,371</td>\n",
       "      <td>Europe</td>\n",
       "    </tr>\n",
       "    <tr>\n",
       "      <th>105</th>\n",
       "      <td>Algeria</td>\n",
       "      <td>2,71,182</td>\n",
       "      <td>6,881</td>\n",
       "      <td>1,82,622</td>\n",
       "      <td>81,679</td>\n",
       "      <td>NaN</td>\n",
       "      <td>5,980</td>\n",
       "      <td>152</td>\n",
       "      <td>2,30,861</td>\n",
       "      <td>5,091</td>\n",
       "      <td>4,53,50,148</td>\n",
       "      <td>Africa</td>\n",
       "    </tr>\n",
       "    <tr>\n",
       "      <th>112</th>\n",
       "      <td>Laos</td>\n",
       "      <td>2,17,526</td>\n",
       "      <td>758</td>\n",
       "      <td>NaN</td>\n",
       "      <td>NaN</td>\n",
       "      <td>NaN</td>\n",
       "      <td>29,077</td>\n",
       "      <td>101</td>\n",
       "      <td>12,33,207</td>\n",
       "      <td>1,64,845</td>\n",
       "      <td>74,81,023</td>\n",
       "      <td>Asia</td>\n",
       "    </tr>\n",
       "    <tr>\n",
       "      <th>121</th>\n",
       "      <td>Namibia</td>\n",
       "      <td>1,70,181</td>\n",
       "      <td>4,080</td>\n",
       "      <td>1,65,940</td>\n",
       "      <td>161</td>\n",
       "      <td>NaN</td>\n",
       "      <td>64,612</td>\n",
       "      <td>1,549</td>\n",
       "      <td>10,62,663</td>\n",
       "      <td>4,03,460</td>\n",
       "      <td>26,33,874</td>\n",
       "      <td>Africa</td>\n",
       "    </tr>\n",
       "    <tr>\n",
       "      <th>123</th>\n",
       "      <td>Jamaica</td>\n",
       "      <td>1,52,669</td>\n",
       "      <td>3,447</td>\n",
       "      <td>1,01,947</td>\n",
       "      <td>47,275</td>\n",
       "      <td>NaN</td>\n",
       "      <td>51,144</td>\n",
       "      <td>1,155</td>\n",
       "      <td>11,83,986</td>\n",
       "      <td>3,96,633</td>\n",
       "      <td>29,85,094</td>\n",
       "      <td>North America</td>\n",
       "    </tr>\n",
       "    <tr>\n",
       "      <th>124</th>\n",
       "      <td>Cambodia</td>\n",
       "      <td>1,38,457</td>\n",
       "      <td>3,056</td>\n",
       "      <td>1,35,268</td>\n",
       "      <td>133</td>\n",
       "      <td>NaN</td>\n",
       "      <td>8,065</td>\n",
       "      <td>178</td>\n",
       "      <td>30,91,420</td>\n",
       "      <td>1,80,062</td>\n",
       "      <td>1,71,68,639</td>\n",
       "      <td>Asia</td>\n",
       "    </tr>\n",
       "    <tr>\n",
       "      <th>125</th>\n",
       "      <td>Rwanda</td>\n",
       "      <td>1,32,920</td>\n",
       "      <td>1,467</td>\n",
       "      <td>1,31,112</td>\n",
       "      <td>341</td>\n",
       "      <td>NaN</td>\n",
       "      <td>9,773</td>\n",
       "      <td>108</td>\n",
       "      <td>58,82,479</td>\n",
       "      <td>4,32,520</td>\n",
       "      <td>1,36,00,464</td>\n",
       "      <td>Africa</td>\n",
       "    </tr>\n",
       "    <tr>\n",
       "      <th>128</th>\n",
       "      <td>Angola</td>\n",
       "      <td>1,04,946</td>\n",
       "      <td>1,928</td>\n",
       "      <td>1,02,538</td>\n",
       "      <td>480</td>\n",
       "      <td>NaN</td>\n",
       "      <td>2,996</td>\n",
       "      <td>55</td>\n",
       "      <td>14,99,795</td>\n",
       "      <td>42,818</td>\n",
       "      <td>3,50,27,343</td>\n",
       "      <td>Africa</td>\n",
       "    </tr>\n",
       "    <tr>\n",
       "      <th>129</th>\n",
       "      <td>Barbados</td>\n",
       "      <td>1,04,944</td>\n",
       "      <td>568</td>\n",
       "      <td>1,02,435</td>\n",
       "      <td>1,941</td>\n",
       "      <td>NaN</td>\n",
       "      <td>3,64,360</td>\n",
       "      <td>1,972</td>\n",
       "      <td>7,84,101</td>\n",
       "      <td>27,22,356</td>\n",
       "      <td>2,88,023</td>\n",
       "      <td>North America</td>\n",
       "    </tr>\n",
       "    <tr>\n",
       "      <th>130</th>\n",
       "      <td>Channel Islands</td>\n",
       "      <td>98,226</td>\n",
       "      <td>210</td>\n",
       "      <td>96,602</td>\n",
       "      <td>1,414</td>\n",
       "      <td>NaN</td>\n",
       "      <td>5,56,638</td>\n",
       "      <td>1,190</td>\n",
       "      <td>12,52,808</td>\n",
       "      <td>70,99,551</td>\n",
       "      <td>1,76,463</td>\n",
       "      <td>Europe</td>\n",
       "    </tr>\n",
       "    <tr>\n",
       "      <th>132</th>\n",
       "      <td>DRC</td>\n",
       "      <td>94,970</td>\n",
       "      <td>1,461</td>\n",
       "      <td>83,974</td>\n",
       "      <td>9,535</td>\n",
       "      <td>NaN</td>\n",
       "      <td>997</td>\n",
       "      <td>15</td>\n",
       "      <td>8,46,704</td>\n",
       "      <td>8,890</td>\n",
       "      <td>9,52,40,792</td>\n",
       "      <td>Africa</td>\n",
       "    </tr>\n",
       "    <tr>\n",
       "      <th>133</th>\n",
       "      <td>Senegal</td>\n",
       "      <td>88,896</td>\n",
       "      <td>1,968</td>\n",
       "      <td>86,906</td>\n",
       "      <td>22</td>\n",
       "      <td>NaN</td>\n",
       "      <td>5,036</td>\n",
       "      <td>111</td>\n",
       "      <td>11,46,543</td>\n",
       "      <td>64,946</td>\n",
       "      <td>1,76,53,671</td>\n",
       "      <td>Africa</td>\n",
       "    </tr>\n",
       "    <tr>\n",
       "      <th>135</th>\n",
       "      <td>Ivory Coast</td>\n",
       "      <td>87,916</td>\n",
       "      <td>830</td>\n",
       "      <td>87,073</td>\n",
       "      <td>13</td>\n",
       "      <td>NaN</td>\n",
       "      <td>3,169</td>\n",
       "      <td>30</td>\n",
       "      <td>16,60,150</td>\n",
       "      <td>59,842</td>\n",
       "      <td>2,77,42,298</td>\n",
       "      <td>Africa</td>\n",
       "    </tr>\n",
       "    <tr>\n",
       "      <th>136</th>\n",
       "      <td>Suriname</td>\n",
       "      <td>81,581</td>\n",
       "      <td>1,393</td>\n",
       "      <td>NaN</td>\n",
       "      <td>NaN</td>\n",
       "      <td>NaN</td>\n",
       "      <td>1,36,690</td>\n",
       "      <td>2,334</td>\n",
       "      <td>2,39,603</td>\n",
       "      <td>4,01,459</td>\n",
       "      <td>5,96,831</td>\n",
       "      <td>South America</td>\n",
       "    </tr>\n",
       "    <tr>\n",
       "      <th>139</th>\n",
       "      <td>Eswatini</td>\n",
       "      <td>73,992</td>\n",
       "      <td>1,422</td>\n",
       "      <td>72,513</td>\n",
       "      <td>57</td>\n",
       "      <td>NaN</td>\n",
       "      <td>62,450</td>\n",
       "      <td>1,200</td>\n",
       "      <td>10,47,886</td>\n",
       "      <td>8,84,429</td>\n",
       "      <td>11,84,817</td>\n",
       "      <td>Africa</td>\n",
       "    </tr>\n",
       "    <tr>\n",
       "      <th>140</th>\n",
       "      <td>Guyana</td>\n",
       "      <td>71,757</td>\n",
       "      <td>1,285</td>\n",
       "      <td>70,251</td>\n",
       "      <td>221</td>\n",
       "      <td>NaN</td>\n",
       "      <td>90,369</td>\n",
       "      <td>1,618</td>\n",
       "      <td>7,07,973</td>\n",
       "      <td>8,91,603</td>\n",
       "      <td>7,94,045</td>\n",
       "      <td>South America</td>\n",
       "    </tr>\n",
       "    <tr>\n",
       "      <th>142</th>\n",
       "      <td>Fiji</td>\n",
       "      <td>68,451</td>\n",
       "      <td>878</td>\n",
       "      <td>66,524</td>\n",
       "      <td>1,049</td>\n",
       "      <td>NaN</td>\n",
       "      <td>75,265</td>\n",
       "      <td>965</td>\n",
       "      <td>6,66,164</td>\n",
       "      <td>7,32,478</td>\n",
       "      <td>9,09,466</td>\n",
       "      <td>Australia/Oceania</td>\n",
       "    </tr>\n",
       "    <tr>\n",
       "      <th>143</th>\n",
       "      <td>Madagascar</td>\n",
       "      <td>67,684</td>\n",
       "      <td>1,415</td>\n",
       "      <td>66,069</td>\n",
       "      <td>200</td>\n",
       "      <td>NaN</td>\n",
       "      <td>2,320</td>\n",
       "      <td>48</td>\n",
       "      <td>5,21,617</td>\n",
       "      <td>17,877</td>\n",
       "      <td>2,91,78,077</td>\n",
       "      <td>Africa</td>\n",
       "    </tr>\n",
       "    <tr>\n",
       "      <th>144</th>\n",
       "      <td>Sudan</td>\n",
       "      <td>63,677</td>\n",
       "      <td>4,992</td>\n",
       "      <td>58,155</td>\n",
       "      <td>530</td>\n",
       "      <td>NaN</td>\n",
       "      <td>1,385</td>\n",
       "      <td>109</td>\n",
       "      <td>5,62,941</td>\n",
       "      <td>12,240</td>\n",
       "      <td>4,59,92,020</td>\n",
       "      <td>Africa</td>\n",
       "    </tr>\n",
       "    <tr>\n",
       "      <th>145</th>\n",
       "      <td>Mauritania</td>\n",
       "      <td>63,425</td>\n",
       "      <td>997</td>\n",
       "      <td>62,423</td>\n",
       "      <td>5</td>\n",
       "      <td>NaN</td>\n",
       "      <td>12,939</td>\n",
       "      <td>203</td>\n",
       "      <td>10,09,957</td>\n",
       "      <td>2,06,030</td>\n",
       "      <td>49,01,981</td>\n",
       "      <td>Africa</td>\n",
       "    </tr>\n",
       "    <tr>\n",
       "      <th>147</th>\n",
       "      <td>Bhutan</td>\n",
       "      <td>62,524</td>\n",
       "      <td>21</td>\n",
       "      <td>61,564</td>\n",
       "      <td>939</td>\n",
       "      <td>NaN</td>\n",
       "      <td>79,351</td>\n",
       "      <td>27</td>\n",
       "      <td>23,03,734</td>\n",
       "      <td>29,23,739</td>\n",
       "      <td>7,87,941</td>\n",
       "      <td>Asia</td>\n",
       "    </tr>\n",
       "    <tr>\n",
       "      <th>148</th>\n",
       "      <td>Syria</td>\n",
       "      <td>57,423</td>\n",
       "      <td>3,163</td>\n",
       "      <td>54,260</td>\n",
       "      <td>0</td>\n",
       "      <td>NaN</td>\n",
       "      <td>2,965</td>\n",
       "      <td>163</td>\n",
       "      <td>1,46,269</td>\n",
       "      <td>7,553</td>\n",
       "      <td>1,93,64,809</td>\n",
       "      <td>Asia</td>\n",
       "    </tr>\n",
       "    <tr>\n",
       "      <th>149</th>\n",
       "      <td>Burundi</td>\n",
       "      <td>51,018</td>\n",
       "      <td>38</td>\n",
       "      <td>50,638</td>\n",
       "      <td>342</td>\n",
       "      <td>NaN</td>\n",
       "      <td>4,041</td>\n",
       "      <td>3</td>\n",
       "      <td>3,45,742</td>\n",
       "      <td>27,386</td>\n",
       "      <td>1,26,24,840</td>\n",
       "      <td>Africa</td>\n",
       "    </tr>\n",
       "    <tr>\n",
       "      <th>150</th>\n",
       "      <td>Seychelles</td>\n",
       "      <td>50,355</td>\n",
       "      <td>172</td>\n",
       "      <td>50,026</td>\n",
       "      <td>157</td>\n",
       "      <td>NaN</td>\n",
       "      <td>5,06,457</td>\n",
       "      <td>1,730</td>\n",
       "      <td>NaN</td>\n",
       "      <td>NaN</td>\n",
       "      <td>99,426</td>\n",
       "      <td>Africa</td>\n",
       "    </tr>\n",
       "    <tr>\n",
       "      <th>151</th>\n",
       "      <td>Gabon</td>\n",
       "      <td>48,973</td>\n",
       "      <td>306</td>\n",
       "      <td>48,617</td>\n",
       "      <td>50</td>\n",
       "      <td>NaN</td>\n",
       "      <td>21,005</td>\n",
       "      <td>131</td>\n",
       "      <td>16,21,130</td>\n",
       "      <td>6,95,306</td>\n",
       "      <td>23,31,533</td>\n",
       "      <td>Africa</td>\n",
       "    </tr>\n",
       "    <tr>\n",
       "      <th>157</th>\n",
       "      <td>Mayotte</td>\n",
       "      <td>41,921</td>\n",
       "      <td>187</td>\n",
       "      <td>NaN</td>\n",
       "      <td>NaN</td>\n",
       "      <td>NaN</td>\n",
       "      <td>1,46,444</td>\n",
       "      <td>653</td>\n",
       "      <td>1,76,919</td>\n",
       "      <td>6,18,038</td>\n",
       "      <td>2,86,259</td>\n",
       "      <td>Africa</td>\n",
       "    </tr>\n",
       "    <tr>\n",
       "      <th>158</th>\n",
       "      <td>Mauritius</td>\n",
       "      <td>41,363</td>\n",
       "      <td>1,037</td>\n",
       "      <td>39,612</td>\n",
       "      <td>714</td>\n",
       "      <td>NaN</td>\n",
       "      <td>32,449</td>\n",
       "      <td>814</td>\n",
       "      <td>3,58,675</td>\n",
       "      <td>2,81,374</td>\n",
       "      <td>12,74,727</td>\n",
       "      <td>Africa</td>\n",
       "    </tr>\n",
       "    <tr>\n",
       "      <th>159</th>\n",
       "      <td>Togo</td>\n",
       "      <td>39,339</td>\n",
       "      <td>290</td>\n",
       "      <td>39,045</td>\n",
       "      <td>4</td>\n",
       "      <td>NaN</td>\n",
       "      <td>4,532</td>\n",
       "      <td>33</td>\n",
       "      <td>8,03,470</td>\n",
       "      <td>92,557</td>\n",
       "      <td>86,80,837</td>\n",
       "      <td>Africa</td>\n",
       "    </tr>\n",
       "    <tr>\n",
       "      <th>161</th>\n",
       "      <td>Isle of Man</td>\n",
       "      <td>38,008</td>\n",
       "      <td>116</td>\n",
       "      <td>NaN</td>\n",
       "      <td>NaN</td>\n",
       "      <td>NaN</td>\n",
       "      <td>4,43,335</td>\n",
       "      <td>1,353</td>\n",
       "      <td>1,50,753</td>\n",
       "      <td>17,58,422</td>\n",
       "      <td>85,732</td>\n",
       "      <td>Europe</td>\n",
       "    </tr>\n",
       "    <tr>\n",
       "      <th>164</th>\n",
       "      <td>Lesotho</td>\n",
       "      <td>34,490</td>\n",
       "      <td>706</td>\n",
       "      <td>25,980</td>\n",
       "      <td>7,804</td>\n",
       "      <td>NaN</td>\n",
       "      <td>15,852</td>\n",
       "      <td>324</td>\n",
       "      <td>4,31,221</td>\n",
       "      <td>1,98,199</td>\n",
       "      <td>21,75,699</td>\n",
       "      <td>Africa</td>\n",
       "    </tr>\n",
       "    <tr>\n",
       "      <th>165</th>\n",
       "      <td>Haiti</td>\n",
       "      <td>33,876</td>\n",
       "      <td>860</td>\n",
       "      <td>32,934</td>\n",
       "      <td>82</td>\n",
       "      <td>NaN</td>\n",
       "      <td>2,900</td>\n",
       "      <td>74</td>\n",
       "      <td>1,32,422</td>\n",
       "      <td>11,337</td>\n",
       "      <td>1,16,80,283</td>\n",
       "      <td>North America</td>\n",
       "    </tr>\n",
       "    <tr>\n",
       "      <th>166</th>\n",
       "      <td>Mali</td>\n",
       "      <td>32,767</td>\n",
       "      <td>743</td>\n",
       "      <td>31,944</td>\n",
       "      <td>80</td>\n",
       "      <td>NaN</td>\n",
       "      <td>1,526</td>\n",
       "      <td>35</td>\n",
       "      <td>7,80,661</td>\n",
       "      <td>36,354</td>\n",
       "      <td>2,14,73,764</td>\n",
       "      <td>Africa</td>\n",
       "    </tr>\n",
       "    <tr>\n",
       "      <th>168</th>\n",
       "      <td>Saint Lucia</td>\n",
       "      <td>29,550</td>\n",
       "      <td>404</td>\n",
       "      <td>29,095</td>\n",
       "      <td>51</td>\n",
       "      <td>NaN</td>\n",
       "      <td>1,59,632</td>\n",
       "      <td>2,182</td>\n",
       "      <td>2,10,983</td>\n",
       "      <td>11,39,752</td>\n",
       "      <td>1,85,113</td>\n",
       "      <td>North America</td>\n",
       "    </tr>\n",
       "    <tr>\n",
       "      <th>170</th>\n",
       "      <td>Somalia</td>\n",
       "      <td>27,300</td>\n",
       "      <td>1,361</td>\n",
       "      <td>13,182</td>\n",
       "      <td>12,757</td>\n",
       "      <td>NaN</td>\n",
       "      <td>1,621</td>\n",
       "      <td>81</td>\n",
       "      <td>4,00,466</td>\n",
       "      <td>23,778</td>\n",
       "      <td>1,68,41,795</td>\n",
       "      <td>Africa</td>\n",
       "    </tr>\n",
       "    <tr>\n",
       "      <th>171</th>\n",
       "      <td>Congo</td>\n",
       "      <td>25,375</td>\n",
       "      <td>386</td>\n",
       "      <td>24,006</td>\n",
       "      <td>983</td>\n",
       "      <td>NaN</td>\n",
       "      <td>4,377</td>\n",
       "      <td>67</td>\n",
       "      <td>3,47,815</td>\n",
       "      <td>59,991</td>\n",
       "      <td>57,97,805</td>\n",
       "      <td>Africa</td>\n",
       "    </tr>\n",
       "    <tr>\n",
       "      <th>173</th>\n",
       "      <td>Timor-Leste</td>\n",
       "      <td>23,385</td>\n",
       "      <td>138</td>\n",
       "      <td>23,102</td>\n",
       "      <td>145</td>\n",
       "      <td>NaN</td>\n",
       "      <td>17,076</td>\n",
       "      <td>101</td>\n",
       "      <td>2,78,529</td>\n",
       "      <td>2,03,391</td>\n",
       "      <td>13,69,429</td>\n",
       "      <td>Asia</td>\n",
       "    </tr>\n",
       "    <tr>\n",
       "      <th>176</th>\n",
       "      <td>Burkina Faso</td>\n",
       "      <td>22,006</td>\n",
       "      <td>395</td>\n",
       "      <td>21,596</td>\n",
       "      <td>15</td>\n",
       "      <td>NaN</td>\n",
       "      <td>996</td>\n",
       "      <td>18</td>\n",
       "      <td>2,48,995</td>\n",
       "      <td>11,265</td>\n",
       "      <td>2,21,02,838</td>\n",
       "      <td>Africa</td>\n",
       "    </tr>\n",
       "    <tr>\n",
       "      <th>178</th>\n",
       "      <td>Gibraltar</td>\n",
       "      <td>20,252</td>\n",
       "      <td>110</td>\n",
       "      <td>16,579</td>\n",
       "      <td>3,563</td>\n",
       "      <td>NaN</td>\n",
       "      <td>6,00,878</td>\n",
       "      <td>3,264</td>\n",
       "      <td>5,34,283</td>\n",
       "      <td>1,58,52,213</td>\n",
       "      <td>33,704</td>\n",
       "      <td>Europe</td>\n",
       "    </tr>\n",
       "    <tr>\n",
       "      <th>180</th>\n",
       "      <td>Bermuda</td>\n",
       "      <td>18,557</td>\n",
       "      <td>152</td>\n",
       "      <td>18,380</td>\n",
       "      <td>25</td>\n",
       "      <td>NaN</td>\n",
       "      <td>2,99,601</td>\n",
       "      <td>2,454</td>\n",
       "      <td>10,20,909</td>\n",
       "      <td>1,64,82,491</td>\n",
       "      <td>61,939</td>\n",
       "      <td>North America</td>\n",
       "    </tr>\n",
       "    <tr>\n",
       "      <th>181</th>\n",
       "      <td>Nicaragua</td>\n",
       "      <td>18,491</td>\n",
       "      <td>225</td>\n",
       "      <td>4,225</td>\n",
       "      <td>14,041</td>\n",
       "      <td>NaN</td>\n",
       "      <td>2,728</td>\n",
       "      <td>33</td>\n",
       "      <td>NaN</td>\n",
       "      <td>NaN</td>\n",
       "      <td>67,79,100</td>\n",
       "      <td>North America</td>\n",
       "    </tr>\n",
       "    <tr>\n",
       "      <th>183</th>\n",
       "      <td>Tajikistan</td>\n",
       "      <td>17,786</td>\n",
       "      <td>125</td>\n",
       "      <td>17,264</td>\n",
       "      <td>397</td>\n",
       "      <td>NaN</td>\n",
       "      <td>1,786</td>\n",
       "      <td>13</td>\n",
       "      <td>NaN</td>\n",
       "      <td>NaN</td>\n",
       "      <td>99,57,464</td>\n",
       "      <td>Asia</td>\n",
       "    </tr>\n",
       "    <tr>\n",
       "      <th>185</th>\n",
       "      <td>Tonga</td>\n",
       "      <td>16,182</td>\n",
       "      <td>12</td>\n",
       "      <td>15,638</td>\n",
       "      <td>532</td>\n",
       "      <td>NaN</td>\n",
       "      <td>1,50,182</td>\n",
       "      <td>111</td>\n",
       "      <td>5,35,009</td>\n",
       "      <td>49,65,327</td>\n",
       "      <td>1,07,749</td>\n",
       "      <td>Australia/Oceania</td>\n",
       "    </tr>\n",
       "    <tr>\n",
       "      <th>188</th>\n",
       "      <td>Dominica</td>\n",
       "      <td>15,760</td>\n",
       "      <td>74</td>\n",
       "      <td>15,673</td>\n",
       "      <td>13</td>\n",
       "      <td>NaN</td>\n",
       "      <td>2,17,848</td>\n",
       "      <td>1,023</td>\n",
       "      <td>2,29,344</td>\n",
       "      <td>31,70,187</td>\n",
       "      <td>72,344</td>\n",
       "      <td>North America</td>\n",
       "    </tr>\n",
       "    <tr>\n",
       "      <th>189</th>\n",
       "      <td>Djibouti</td>\n",
       "      <td>15,690</td>\n",
       "      <td>189</td>\n",
       "      <td>15,427</td>\n",
       "      <td>74</td>\n",
       "      <td>NaN</td>\n",
       "      <td>15,441</td>\n",
       "      <td>186</td>\n",
       "      <td>3,05,941</td>\n",
       "      <td>3,01,094</td>\n",
       "      <td>10,16,097</td>\n",
       "      <td>Africa</td>\n",
       "    </tr>\n",
       "    <tr>\n",
       "      <th>192</th>\n",
       "      <td>Gambia</td>\n",
       "      <td>12,586</td>\n",
       "      <td>372</td>\n",
       "      <td>12,189</td>\n",
       "      <td>25</td>\n",
       "      <td>NaN</td>\n",
       "      <td>4,919</td>\n",
       "      <td>145</td>\n",
       "      <td>1,55,686</td>\n",
       "      <td>60,851</td>\n",
       "      <td>25,58,482</td>\n",
       "      <td>Africa</td>\n",
       "    </tr>\n",
       "    <tr>\n",
       "      <th>194</th>\n",
       "      <td>Vanuatu</td>\n",
       "      <td>11,982</td>\n",
       "      <td>14</td>\n",
       "      <td>11,952</td>\n",
       "      <td>16</td>\n",
       "      <td>NaN</td>\n",
       "      <td>37,231</td>\n",
       "      <td>44</td>\n",
       "      <td>24,976</td>\n",
       "      <td>77,606</td>\n",
       "      <td>3,21,832</td>\n",
       "      <td>Australia/Oceania</td>\n",
       "    </tr>\n",
       "    <tr>\n",
       "      <th>197</th>\n",
       "      <td>Caribbean Netherlands</td>\n",
       "      <td>11,540</td>\n",
       "      <td>36</td>\n",
       "      <td>10,476</td>\n",
       "      <td>1,028</td>\n",
       "      <td>NaN</td>\n",
       "      <td>4,33,069</td>\n",
       "      <td>1,351</td>\n",
       "      <td>30,126</td>\n",
       "      <td>11,30,559</td>\n",
       "      <td>26,647</td>\n",
       "      <td>North America</td>\n",
       "    </tr>\n",
       "    <tr>\n",
       "      <th>198</th>\n",
       "      <td>Sint Maarten</td>\n",
       "      <td>10,964</td>\n",
       "      <td>89</td>\n",
       "      <td>10,873</td>\n",
       "      <td>2</td>\n",
       "      <td>NaN</td>\n",
       "      <td>2,49,375</td>\n",
       "      <td>2,024</td>\n",
       "      <td>62,056</td>\n",
       "      <td>14,11,454</td>\n",
       "      <td>43,966</td>\n",
       "      <td>North America</td>\n",
       "    </tr>\n",
       "    <tr>\n",
       "      <th>199</th>\n",
       "      <td>Eritrea</td>\n",
       "      <td>10,189</td>\n",
       "      <td>103</td>\n",
       "      <td>10,086</td>\n",
       "      <td>0</td>\n",
       "      <td>NaN</td>\n",
       "      <td>2,782</td>\n",
       "      <td>28</td>\n",
       "      <td>23,693</td>\n",
       "      <td>6,470</td>\n",
       "      <td>36,62,244</td>\n",
       "      <td>Africa</td>\n",
       "    </tr>\n",
       "    <tr>\n",
       "      <th>201</th>\n",
       "      <td>St. Vincent Grenadines</td>\n",
       "      <td>9,521</td>\n",
       "      <td>118</td>\n",
       "      <td>9,367</td>\n",
       "      <td>36</td>\n",
       "      <td>NaN</td>\n",
       "      <td>85,351</td>\n",
       "      <td>1,058</td>\n",
       "      <td>1,12,923</td>\n",
       "      <td>10,12,299</td>\n",
       "      <td>1,11,551</td>\n",
       "      <td>North America</td>\n",
       "    </tr>\n",
       "    <tr>\n",
       "      <th>203</th>\n",
       "      <td>Comoros</td>\n",
       "      <td>8,979</td>\n",
       "      <td>161</td>\n",
       "      <td>8,812</td>\n",
       "      <td>6</td>\n",
       "      <td>NaN</td>\n",
       "      <td>9,895</td>\n",
       "      <td>177</td>\n",
       "      <td>NaN</td>\n",
       "      <td>NaN</td>\n",
       "      <td>9,07,419</td>\n",
       "      <td>Africa</td>\n",
       "    </tr>\n",
       "    <tr>\n",
       "      <th>206</th>\n",
       "      <td>Sierra Leone</td>\n",
       "      <td>7,760</td>\n",
       "      <td>126</td>\n",
       "      <td>NaN</td>\n",
       "      <td>NaN</td>\n",
       "      <td>NaN</td>\n",
       "      <td>934</td>\n",
       "      <td>15</td>\n",
       "      <td>2,59,958</td>\n",
       "      <td>31,296</td>\n",
       "      <td>83,06,436</td>\n",
       "      <td>Africa</td>\n",
       "    </tr>\n",
       "    <tr>\n",
       "      <th>207</th>\n",
       "      <td>Chad</td>\n",
       "      <td>7,649</td>\n",
       "      <td>194</td>\n",
       "      <td>4,874</td>\n",
       "      <td>2,581</td>\n",
       "      <td>NaN</td>\n",
       "      <td>439</td>\n",
       "      <td>11</td>\n",
       "      <td>1,91,341</td>\n",
       "      <td>10,988</td>\n",
       "      <td>1,74,13,580</td>\n",
       "      <td>Africa</td>\n",
       "    </tr>\n",
       "    <tr>\n",
       "      <th>208</th>\n",
       "      <td>British Virgin Islands</td>\n",
       "      <td>7,305</td>\n",
       "      <td>64</td>\n",
       "      <td>NaN</td>\n",
       "      <td>NaN</td>\n",
       "      <td>NaN</td>\n",
       "      <td>2,38,757</td>\n",
       "      <td>2,092</td>\n",
       "      <td>1,07,339</td>\n",
       "      <td>35,08,269</td>\n",
       "      <td>30,596</td>\n",
       "      <td>North America</td>\n",
       "    </tr>\n",
       "    <tr>\n",
       "      <th>209</th>\n",
       "      <td>Saint Kitts and Nevis</td>\n",
       "      <td>6,560</td>\n",
       "      <td>46</td>\n",
       "      <td>6,513</td>\n",
       "      <td>1</td>\n",
       "      <td>NaN</td>\n",
       "      <td>1,21,772</td>\n",
       "      <td>854</td>\n",
       "      <td>1,26,817</td>\n",
       "      <td>23,54,087</td>\n",
       "      <td>53,871</td>\n",
       "      <td>North America</td>\n",
       "    </tr>\n",
       "    <tr>\n",
       "      <th>211</th>\n",
       "      <td>Cook Islands</td>\n",
       "      <td>6,389</td>\n",
       "      <td>1</td>\n",
       "      <td>6,384</td>\n",
       "      <td>4</td>\n",
       "      <td>NaN</td>\n",
       "      <td>3,63,610</td>\n",
       "      <td>57</td>\n",
       "      <td>19,690</td>\n",
       "      <td>11,20,596</td>\n",
       "      <td>17,571</td>\n",
       "      <td>Australia/Oceania</td>\n",
       "    </tr>\n",
       "    <tr>\n",
       "      <th>212</th>\n",
       "      <td>Sao Tome and Principe</td>\n",
       "      <td>6,279</td>\n",
       "      <td>77</td>\n",
       "      <td>6,202</td>\n",
       "      <td>0</td>\n",
       "      <td>NaN</td>\n",
       "      <td>27,578</td>\n",
       "      <td>338</td>\n",
       "      <td>29,036</td>\n",
       "      <td>1,27,530</td>\n",
       "      <td>2,27,679</td>\n",
       "      <td>Africa</td>\n",
       "    </tr>\n",
       "    <tr>\n",
       "      <th>214</th>\n",
       "      <td>St. Barth</td>\n",
       "      <td>5,382</td>\n",
       "      <td>6</td>\n",
       "      <td>NaN</td>\n",
       "      <td>NaN</td>\n",
       "      <td>NaN</td>\n",
       "      <td>5,41,176</td>\n",
       "      <td>603</td>\n",
       "      <td>78,646</td>\n",
       "      <td>79,08,095</td>\n",
       "      <td>9,945</td>\n",
       "      <td>North America</td>\n",
       "    </tr>\n",
       "    <tr>\n",
       "      <th>215</th>\n",
       "      <td>Nauru</td>\n",
       "      <td>4,621</td>\n",
       "      <td>1</td>\n",
       "      <td>4,609</td>\n",
       "      <td>11</td>\n",
       "      <td>NaN</td>\n",
       "      <td>4,23,828</td>\n",
       "      <td>92</td>\n",
       "      <td>20,509</td>\n",
       "      <td>18,81,042</td>\n",
       "      <td>10,903</td>\n",
       "      <td>Australia/Oceania</td>\n",
       "    </tr>\n",
       "    <tr>\n",
       "      <th>219</th>\n",
       "      <td>Tuvalu</td>\n",
       "      <td>2,805</td>\n",
       "      <td>NaN</td>\n",
       "      <td>NaN</td>\n",
       "      <td>2,805</td>\n",
       "      <td>NaN</td>\n",
       "      <td>2,32,471</td>\n",
       "      <td>NaN</td>\n",
       "      <td>NaN</td>\n",
       "      <td>NaN</td>\n",
       "      <td>12,066</td>\n",
       "      <td>Australia/Oceania</td>\n",
       "    </tr>\n",
       "    <tr>\n",
       "      <th>220</th>\n",
       "      <td>Falkland Islands</td>\n",
       "      <td>1,930</td>\n",
       "      <td>NaN</td>\n",
       "      <td>1,930</td>\n",
       "      <td>0</td>\n",
       "      <td>NaN</td>\n",
       "      <td>5,45,352</td>\n",
       "      <td>NaN</td>\n",
       "      <td>8,632</td>\n",
       "      <td>24,39,107</td>\n",
       "      <td>3,539</td>\n",
       "      <td>South America</td>\n",
       "    </tr>\n",
       "    <tr>\n",
       "      <th>221</th>\n",
       "      <td>Saint Helena</td>\n",
       "      <td>1,806</td>\n",
       "      <td>NaN</td>\n",
       "      <td>2</td>\n",
       "      <td>1,804</td>\n",
       "      <td>NaN</td>\n",
       "      <td>2,95,339</td>\n",
       "      <td>NaN</td>\n",
       "      <td>NaN</td>\n",
       "      <td>NaN</td>\n",
       "      <td>6,115</td>\n",
       "      <td>Africa</td>\n",
       "    </tr>\n",
       "    <tr>\n",
       "      <th>222</th>\n",
       "      <td>Macao</td>\n",
       "      <td>1,427</td>\n",
       "      <td>11</td>\n",
       "      <td>854</td>\n",
       "      <td>562</td>\n",
       "      <td>NaN</td>\n",
       "      <td>2,138</td>\n",
       "      <td>16</td>\n",
       "      <td>7,850</td>\n",
       "      <td>11,760</td>\n",
       "      <td>6,67,490</td>\n",
       "      <td>Asia</td>\n",
       "    </tr>\n",
       "    <tr>\n",
       "      <th>223</th>\n",
       "      <td>Montserrat</td>\n",
       "      <td>1,403</td>\n",
       "      <td>8</td>\n",
       "      <td>1,376</td>\n",
       "      <td>19</td>\n",
       "      <td>NaN</td>\n",
       "      <td>2,82,578</td>\n",
       "      <td>1,611</td>\n",
       "      <td>17,762</td>\n",
       "      <td>35,77,442</td>\n",
       "      <td>4,965</td>\n",
       "      <td>North America</td>\n",
       "    </tr>\n",
       "    <tr>\n",
       "      <th>224</th>\n",
       "      <td>Wallis and Futuna</td>\n",
       "      <td>761</td>\n",
       "      <td>7</td>\n",
       "      <td>438</td>\n",
       "      <td>316</td>\n",
       "      <td>NaN</td>\n",
       "      <td>69,295</td>\n",
       "      <td>637</td>\n",
       "      <td>20,508</td>\n",
       "      <td>18,67,419</td>\n",
       "      <td>10,982</td>\n",
       "      <td>Australia/Oceania</td>\n",
       "    </tr>\n",
       "    <tr>\n",
       "      <th>225</th>\n",
       "      <td>Niue</td>\n",
       "      <td>314</td>\n",
       "      <td>NaN</td>\n",
       "      <td>207</td>\n",
       "      <td>107</td>\n",
       "      <td>NaN</td>\n",
       "      <td>1,93,588</td>\n",
       "      <td>NaN</td>\n",
       "      <td>NaN</td>\n",
       "      <td>NaN</td>\n",
       "      <td>1,622</td>\n",
       "      <td>Australia/Oceania</td>\n",
       "    </tr>\n",
       "    <tr>\n",
       "      <th>226</th>\n",
       "      <td>Vatican City</td>\n",
       "      <td>29</td>\n",
       "      <td>NaN</td>\n",
       "      <td>29</td>\n",
       "      <td>0</td>\n",
       "      <td>NaN</td>\n",
       "      <td>36,295</td>\n",
       "      <td>NaN</td>\n",
       "      <td>NaN</td>\n",
       "      <td>NaN</td>\n",
       "      <td>799</td>\n",
       "      <td>Europe</td>\n",
       "    </tr>\n",
       "    <tr>\n",
       "      <th>227</th>\n",
       "      <td>Western Sahara</td>\n",
       "      <td>10</td>\n",
       "      <td>1</td>\n",
       "      <td>9</td>\n",
       "      <td>0</td>\n",
       "      <td>NaN</td>\n",
       "      <td>16</td>\n",
       "      <td>2</td>\n",
       "      <td>NaN</td>\n",
       "      <td>NaN</td>\n",
       "      <td>6,26,161</td>\n",
       "      <td>Africa</td>\n",
       "    </tr>\n",
       "  </tbody>\n",
       "</table>\n",
       "</div>"
      ],
      "text/plain": [
       "                    Country  Total Cases Total Deaths Total Recovered  \\\n",
       "10                   Turkey  1,70,42,722     1,01,492             NaN   \n",
       "15                   Taiwan    86,24,680       14,958       83,14,069   \n",
       "25                  Ukraine    53,50,380     1,10,696       52,30,588   \n",
       "28                     DPRK    47,72,813           74       47,72,739   \n",
       "46              New Zealand    20,62,384        3,435       20,17,409   \n",
       "49                  Georgia    18,08,085       16,895       17,76,548   \n",
       "67                      UAE    10,46,359        2,348       10,28,097   \n",
       "72                    Nepal    10,00,959       12,019        9,88,921   \n",
       "73                  Belarus     9,94,037        7,118        9,85,592   \n",
       "76               Azerbaijan     8,25,527        9,997        8,14,944   \n",
       "79                Sri Lanka     6,71,831       16,814        6,54,980   \n",
       "80                   Kuwait     6,62,747        2,570        6,60,095   \n",
       "82                  Myanmar     6,33,575       19,488        6,08,147   \n",
       "89                    Libya     5,07,121        6,437        5,00,655   \n",
       "94                  Armenia     4,45,881        8,712        4,35,060   \n",
       "95   Bosnia and Herzegovina     4,00,842       16,220        3,78,619   \n",
       "98          North Macedonia     3,45,197        9,599        3,35,465   \n",
       "100                  Zambia     3,33,746        4,019        3,29,690   \n",
       "101                 Albania     3,33,686        3,594        3,28,473   \n",
       "103              Luxembourg     2,97,757        1,133        2,88,991   \n",
       "105                 Algeria     2,71,182        6,881        1,82,622   \n",
       "112                    Laos     2,17,526          758             NaN   \n",
       "121                 Namibia     1,70,181        4,080        1,65,940   \n",
       "123                 Jamaica     1,52,669        3,447        1,01,947   \n",
       "124                Cambodia     1,38,457        3,056        1,35,268   \n",
       "125                  Rwanda     1,32,920        1,467        1,31,112   \n",
       "128                  Angola     1,04,946        1,928        1,02,538   \n",
       "129                Barbados     1,04,944          568        1,02,435   \n",
       "130         Channel Islands       98,226          210          96,602   \n",
       "132                     DRC       94,970        1,461          83,974   \n",
       "133                 Senegal       88,896        1,968          86,906   \n",
       "135             Ivory Coast       87,916          830          87,073   \n",
       "136                Suriname       81,581        1,393             NaN   \n",
       "139                Eswatini       73,992        1,422          72,513   \n",
       "140                  Guyana       71,757        1,285          70,251   \n",
       "142                    Fiji       68,451          878          66,524   \n",
       "143              Madagascar       67,684        1,415          66,069   \n",
       "144                   Sudan       63,677        4,992          58,155   \n",
       "145              Mauritania       63,425          997          62,423   \n",
       "147                  Bhutan       62,524           21          61,564   \n",
       "148                   Syria       57,423        3,163          54,260   \n",
       "149                 Burundi       51,018           38          50,638   \n",
       "150              Seychelles       50,355          172          50,026   \n",
       "151                   Gabon       48,973          306          48,617   \n",
       "157                 Mayotte       41,921          187             NaN   \n",
       "158               Mauritius       41,363        1,037          39,612   \n",
       "159                    Togo       39,339          290          39,045   \n",
       "161             Isle of Man       38,008          116             NaN   \n",
       "164                 Lesotho       34,490          706          25,980   \n",
       "165                   Haiti       33,876          860          32,934   \n",
       "166                    Mali       32,767          743          31,944   \n",
       "168             Saint Lucia       29,550          404          29,095   \n",
       "170                 Somalia       27,300        1,361          13,182   \n",
       "171                   Congo       25,375          386          24,006   \n",
       "173             Timor-Leste       23,385          138          23,102   \n",
       "176            Burkina Faso       22,006          395          21,596   \n",
       "178               Gibraltar       20,252          110          16,579   \n",
       "180                 Bermuda       18,557          152          18,380   \n",
       "181               Nicaragua       18,491          225           4,225   \n",
       "183              Tajikistan       17,786          125          17,264   \n",
       "185                   Tonga       16,182           12          15,638   \n",
       "188                Dominica       15,760           74          15,673   \n",
       "189                Djibouti       15,690          189          15,427   \n",
       "192                  Gambia       12,586          372          12,189   \n",
       "194                 Vanuatu       11,982           14          11,952   \n",
       "197   Caribbean Netherlands       11,540           36          10,476   \n",
       "198            Sint Maarten       10,964           89          10,873   \n",
       "199                 Eritrea       10,189          103          10,086   \n",
       "201  St. Vincent Grenadines        9,521          118           9,367   \n",
       "203                 Comoros        8,979          161           8,812   \n",
       "206            Sierra Leone        7,760          126             NaN   \n",
       "207                    Chad        7,649          194           4,874   \n",
       "208  British Virgin Islands        7,305           64             NaN   \n",
       "209   Saint Kitts and Nevis        6,560           46           6,513   \n",
       "211            Cook Islands        6,389            1           6,384   \n",
       "212   Sao Tome and Principe        6,279           77           6,202   \n",
       "214               St. Barth        5,382            6             NaN   \n",
       "215                   Nauru        4,621            1           4,609   \n",
       "219                  Tuvalu        2,805          NaN             NaN   \n",
       "220        Falkland Islands        1,930          NaN           1,930   \n",
       "221            Saint Helena        1,806          NaN               2   \n",
       "222                   Macao        1,427           11             854   \n",
       "223              Montserrat        1,403            8           1,376   \n",
       "224       Wallis and Futuna          761            7             438   \n",
       "225                    Niue          314          NaN             207   \n",
       "226            Vatican City           29          NaN              29   \n",
       "227          Western Sahara           10            1               9   \n",
       "\n",
       "    Active Cases Serious/critical Tot Cases/ 1M pop Deaths/ 1M pop  \\\n",
       "10           NaN              NaN          1,99,186          1,186   \n",
       "15      2,95,653              NaN          3,61,038            626   \n",
       "25         9,096              NaN          1,23,874          2,563   \n",
       "28             0              NaN          1,83,636              3   \n",
       "46        41,540              NaN          4,21,049            701   \n",
       "49        14,642              NaN          4,55,582          4,257   \n",
       "67        15,914              NaN          1,03,787            233   \n",
       "72            19              NaN            33,116            398   \n",
       "73         1,327              NaN          1,05,381            755   \n",
       "76           586              NaN            80,147            971   \n",
       "79            37              NaN            31,138            779   \n",
       "80            82              NaN          1,51,301            587   \n",
       "82         5,940              NaN            11,472            353   \n",
       "89            29              NaN            72,027            914   \n",
       "94         2,109              NaN          1,50,029          2,931   \n",
       "95         6,003              NaN          1,23,362          4,992   \n",
       "98           133              NaN          1,65,856          4,612   \n",
       "100           37              NaN            17,141            206   \n",
       "101        1,619              NaN          1,16,414          1,254   \n",
       "103        7,633              NaN          4,63,528          1,764   \n",
       "105       81,679              NaN             5,980            152   \n",
       "112          NaN              NaN            29,077            101   \n",
       "121          161              NaN            64,612          1,549   \n",
       "123       47,275              NaN            51,144          1,155   \n",
       "124          133              NaN             8,065            178   \n",
       "125          341              NaN             9,773            108   \n",
       "128          480              NaN             2,996             55   \n",
       "129        1,941              NaN          3,64,360          1,972   \n",
       "130        1,414              NaN          5,56,638          1,190   \n",
       "132        9,535              NaN               997             15   \n",
       "133           22              NaN             5,036            111   \n",
       "135           13              NaN             3,169             30   \n",
       "136          NaN              NaN          1,36,690          2,334   \n",
       "139           57              NaN            62,450          1,200   \n",
       "140          221              NaN            90,369          1,618   \n",
       "142        1,049              NaN            75,265            965   \n",
       "143          200              NaN             2,320             48   \n",
       "144          530              NaN             1,385            109   \n",
       "145            5              NaN            12,939            203   \n",
       "147          939              NaN            79,351             27   \n",
       "148            0              NaN             2,965            163   \n",
       "149          342              NaN             4,041              3   \n",
       "150          157              NaN          5,06,457          1,730   \n",
       "151           50              NaN            21,005            131   \n",
       "157          NaN              NaN          1,46,444            653   \n",
       "158          714              NaN            32,449            814   \n",
       "159            4              NaN             4,532             33   \n",
       "161          NaN              NaN          4,43,335          1,353   \n",
       "164        7,804              NaN            15,852            324   \n",
       "165           82              NaN             2,900             74   \n",
       "166           80              NaN             1,526             35   \n",
       "168           51              NaN          1,59,632          2,182   \n",
       "170       12,757              NaN             1,621             81   \n",
       "171          983              NaN             4,377             67   \n",
       "173          145              NaN            17,076            101   \n",
       "176           15              NaN               996             18   \n",
       "178        3,563              NaN          6,00,878          3,264   \n",
       "180           25              NaN          2,99,601          2,454   \n",
       "181       14,041              NaN             2,728             33   \n",
       "183          397              NaN             1,786             13   \n",
       "185          532              NaN          1,50,182            111   \n",
       "188           13              NaN          2,17,848          1,023   \n",
       "189           74              NaN            15,441            186   \n",
       "192           25              NaN             4,919            145   \n",
       "194           16              NaN            37,231             44   \n",
       "197        1,028              NaN          4,33,069          1,351   \n",
       "198            2              NaN          2,49,375          2,024   \n",
       "199            0              NaN             2,782             28   \n",
       "201           36              NaN            85,351          1,058   \n",
       "203            6              NaN             9,895            177   \n",
       "206          NaN              NaN               934             15   \n",
       "207        2,581              NaN               439             11   \n",
       "208          NaN              NaN          2,38,757          2,092   \n",
       "209            1              NaN          1,21,772            854   \n",
       "211            4              NaN          3,63,610             57   \n",
       "212            0              NaN            27,578            338   \n",
       "214          NaN              NaN          5,41,176            603   \n",
       "215           11              NaN          4,23,828             92   \n",
       "219        2,805              NaN          2,32,471            NaN   \n",
       "220            0              NaN          5,45,352            NaN   \n",
       "221        1,804              NaN          2,95,339            NaN   \n",
       "222          562              NaN             2,138             16   \n",
       "223           19              NaN          2,82,578          1,611   \n",
       "224          316              NaN            69,295            637   \n",
       "225          107              NaN          1,93,588            NaN   \n",
       "226            0              NaN            36,295            NaN   \n",
       "227            0              NaN                16              2   \n",
       "\n",
       "      Total Tests Tests per 1M pop   Population          Continent  \n",
       "10   16,27,43,369        19,02,052  8,55,61,976               Asia  \n",
       "15    2,89,83,590        12,13,281  2,38,88,595               Asia  \n",
       "25    3,26,03,805         7,54,855  4,31,92,122             Europe  \n",
       "28            NaN              NaN  2,59,90,679               Asia  \n",
       "46      76,77,843        15,67,482    48,98,203  Australia/Oceania  \n",
       "49    1,69,20,079        42,63,340    39,68,738               Asia  \n",
       "67   19,77,62,706      1,96,15,842  1,00,81,785               Asia  \n",
       "72      59,85,814         1,98,038  3,02,25,582               Asia  \n",
       "73    1,36,46,641        14,46,722    94,32,800             Europe  \n",
       "76      74,10,224         7,19,425  1,03,00,205               Asia  \n",
       "79      64,86,117         3,00,619  2,15,75,842               Asia  \n",
       "80      84,47,300        19,28,464    43,80,326               Asia  \n",
       "82      97,70,528         1,76,915  5,52,27,143               Asia  \n",
       "89      24,83,446         3,52,725    70,40,745             Africa  \n",
       "94      32,40,491        10,90,353    29,71,966               Asia  \n",
       "95      18,81,275         5,78,976    32,49,317             Europe  \n",
       "98      21,41,032        10,28,697    20,81,304             Europe  \n",
       "100     37,65,147         1,93,380  1,94,70,234             Africa  \n",
       "101     19,41,032         6,77,173    28,66,374             Europe  \n",
       "103     44,12,567        68,69,188     6,42,371             Europe  \n",
       "105      2,30,861            5,091  4,53,50,148             Africa  \n",
       "112     12,33,207         1,64,845    74,81,023               Asia  \n",
       "121     10,62,663         4,03,460    26,33,874             Africa  \n",
       "123     11,83,986         3,96,633    29,85,094      North America  \n",
       "124     30,91,420         1,80,062  1,71,68,639               Asia  \n",
       "125     58,82,479         4,32,520  1,36,00,464             Africa  \n",
       "128     14,99,795           42,818  3,50,27,343             Africa  \n",
       "129      7,84,101        27,22,356     2,88,023      North America  \n",
       "130     12,52,808        70,99,551     1,76,463             Europe  \n",
       "132      8,46,704            8,890  9,52,40,792             Africa  \n",
       "133     11,46,543           64,946  1,76,53,671             Africa  \n",
       "135     16,60,150           59,842  2,77,42,298             Africa  \n",
       "136      2,39,603         4,01,459     5,96,831      South America  \n",
       "139     10,47,886         8,84,429    11,84,817             Africa  \n",
       "140      7,07,973         8,91,603     7,94,045      South America  \n",
       "142      6,66,164         7,32,478     9,09,466  Australia/Oceania  \n",
       "143      5,21,617           17,877  2,91,78,077             Africa  \n",
       "144      5,62,941           12,240  4,59,92,020             Africa  \n",
       "145     10,09,957         2,06,030    49,01,981             Africa  \n",
       "147     23,03,734        29,23,739     7,87,941               Asia  \n",
       "148      1,46,269            7,553  1,93,64,809               Asia  \n",
       "149      3,45,742           27,386  1,26,24,840             Africa  \n",
       "150           NaN              NaN       99,426             Africa  \n",
       "151     16,21,130         6,95,306    23,31,533             Africa  \n",
       "157      1,76,919         6,18,038     2,86,259             Africa  \n",
       "158      3,58,675         2,81,374    12,74,727             Africa  \n",
       "159      8,03,470           92,557    86,80,837             Africa  \n",
       "161      1,50,753        17,58,422       85,732             Europe  \n",
       "164      4,31,221         1,98,199    21,75,699             Africa  \n",
       "165      1,32,422           11,337  1,16,80,283      North America  \n",
       "166      7,80,661           36,354  2,14,73,764             Africa  \n",
       "168      2,10,983        11,39,752     1,85,113      North America  \n",
       "170      4,00,466           23,778  1,68,41,795             Africa  \n",
       "171      3,47,815           59,991    57,97,805             Africa  \n",
       "173      2,78,529         2,03,391    13,69,429               Asia  \n",
       "176      2,48,995           11,265  2,21,02,838             Africa  \n",
       "178      5,34,283      1,58,52,213       33,704             Europe  \n",
       "180     10,20,909      1,64,82,491       61,939      North America  \n",
       "181           NaN              NaN    67,79,100      North America  \n",
       "183           NaN              NaN    99,57,464               Asia  \n",
       "185      5,35,009        49,65,327     1,07,749  Australia/Oceania  \n",
       "188      2,29,344        31,70,187       72,344      North America  \n",
       "189      3,05,941         3,01,094    10,16,097             Africa  \n",
       "192      1,55,686           60,851    25,58,482             Africa  \n",
       "194        24,976           77,606     3,21,832  Australia/Oceania  \n",
       "197        30,126        11,30,559       26,647      North America  \n",
       "198        62,056        14,11,454       43,966      North America  \n",
       "199        23,693            6,470    36,62,244             Africa  \n",
       "201      1,12,923        10,12,299     1,11,551      North America  \n",
       "203           NaN              NaN     9,07,419             Africa  \n",
       "206      2,59,958           31,296    83,06,436             Africa  \n",
       "207      1,91,341           10,988  1,74,13,580             Africa  \n",
       "208      1,07,339        35,08,269       30,596      North America  \n",
       "209      1,26,817        23,54,087       53,871      North America  \n",
       "211        19,690        11,20,596       17,571  Australia/Oceania  \n",
       "212        29,036         1,27,530     2,27,679             Africa  \n",
       "214        78,646        79,08,095        9,945      North America  \n",
       "215        20,509        18,81,042       10,903  Australia/Oceania  \n",
       "219           NaN              NaN       12,066  Australia/Oceania  \n",
       "220         8,632        24,39,107        3,539      South America  \n",
       "221           NaN              NaN        6,115             Africa  \n",
       "222         7,850           11,760     6,67,490               Asia  \n",
       "223        17,762        35,77,442        4,965      North America  \n",
       "224        20,508        18,67,419       10,982  Australia/Oceania  \n",
       "225           NaN              NaN        1,622  Australia/Oceania  \n",
       "226           NaN              NaN          799             Europe  \n",
       "227           NaN              NaN     6,26,161             Africa  "
      ]
     },
     "execution_count": 103,
     "metadata": {},
     "output_type": "execute_result"
    }
   ],
   "source": [
    "df[df['Serious/critical'].isnull()]"
   ]
  },
  {
   "cell_type": "code",
   "execution_count": 105,
   "id": "3049528f",
   "metadata": {},
   "outputs": [
    {
     "data": {
      "text/html": [
       "<div>\n",
       "<style scoped>\n",
       "    .dataframe tbody tr th:only-of-type {\n",
       "        vertical-align: middle;\n",
       "    }\n",
       "\n",
       "    .dataframe tbody tr th {\n",
       "        vertical-align: top;\n",
       "    }\n",
       "\n",
       "    .dataframe thead th {\n",
       "        text-align: right;\n",
       "    }\n",
       "</style>\n",
       "<table border=\"1\" class=\"dataframe\">\n",
       "  <thead>\n",
       "    <tr style=\"text-align: right;\">\n",
       "      <th></th>\n",
       "      <th>Country</th>\n",
       "      <th>Total Cases</th>\n",
       "      <th>Total Deaths</th>\n",
       "      <th>Total Recovered</th>\n",
       "      <th>Active Cases</th>\n",
       "      <th>Serious/critical</th>\n",
       "      <th>Tot Cases/ 1M pop</th>\n",
       "      <th>Deaths/ 1M pop</th>\n",
       "      <th>Total Tests</th>\n",
       "      <th>Tests per 1M pop</th>\n",
       "      <th>Population</th>\n",
       "      <th>Continent</th>\n",
       "    </tr>\n",
       "  </thead>\n",
       "  <tbody>\n",
       "    <tr>\n",
       "      <th>219</th>\n",
       "      <td>Tuvalu</td>\n",
       "      <td>2,805</td>\n",
       "      <td>NaN</td>\n",
       "      <td>NaN</td>\n",
       "      <td>2,805</td>\n",
       "      <td>NaN</td>\n",
       "      <td>2,32,471</td>\n",
       "      <td>NaN</td>\n",
       "      <td>NaN</td>\n",
       "      <td>NaN</td>\n",
       "      <td>12,066</td>\n",
       "      <td>Australia/Oceania</td>\n",
       "    </tr>\n",
       "    <tr>\n",
       "      <th>220</th>\n",
       "      <td>Falkland Islands</td>\n",
       "      <td>1,930</td>\n",
       "      <td>NaN</td>\n",
       "      <td>1,930</td>\n",
       "      <td>0</td>\n",
       "      <td>NaN</td>\n",
       "      <td>5,45,352</td>\n",
       "      <td>NaN</td>\n",
       "      <td>8,632</td>\n",
       "      <td>24,39,107</td>\n",
       "      <td>3,539</td>\n",
       "      <td>South America</td>\n",
       "    </tr>\n",
       "    <tr>\n",
       "      <th>221</th>\n",
       "      <td>Saint Helena</td>\n",
       "      <td>1,806</td>\n",
       "      <td>NaN</td>\n",
       "      <td>2</td>\n",
       "      <td>1,804</td>\n",
       "      <td>NaN</td>\n",
       "      <td>2,95,339</td>\n",
       "      <td>NaN</td>\n",
       "      <td>NaN</td>\n",
       "      <td>NaN</td>\n",
       "      <td>6,115</td>\n",
       "      <td>Africa</td>\n",
       "    </tr>\n",
       "    <tr>\n",
       "      <th>225</th>\n",
       "      <td>Niue</td>\n",
       "      <td>314</td>\n",
       "      <td>NaN</td>\n",
       "      <td>207</td>\n",
       "      <td>107</td>\n",
       "      <td>NaN</td>\n",
       "      <td>1,93,588</td>\n",
       "      <td>NaN</td>\n",
       "      <td>NaN</td>\n",
       "      <td>NaN</td>\n",
       "      <td>1,622</td>\n",
       "      <td>Australia/Oceania</td>\n",
       "    </tr>\n",
       "    <tr>\n",
       "      <th>226</th>\n",
       "      <td>Vatican City</td>\n",
       "      <td>29</td>\n",
       "      <td>NaN</td>\n",
       "      <td>29</td>\n",
       "      <td>0</td>\n",
       "      <td>NaN</td>\n",
       "      <td>36,295</td>\n",
       "      <td>NaN</td>\n",
       "      <td>NaN</td>\n",
       "      <td>NaN</td>\n",
       "      <td>799</td>\n",
       "      <td>Europe</td>\n",
       "    </tr>\n",
       "  </tbody>\n",
       "</table>\n",
       "</div>"
      ],
      "text/plain": [
       "              Country Total Cases Total Deaths Total Recovered Active Cases  \\\n",
       "219            Tuvalu       2,805          NaN             NaN        2,805   \n",
       "220  Falkland Islands       1,930          NaN           1,930            0   \n",
       "221      Saint Helena       1,806          NaN               2        1,804   \n",
       "225              Niue         314          NaN             207          107   \n",
       "226      Vatican City          29          NaN              29            0   \n",
       "\n",
       "    Serious/critical Tot Cases/ 1M pop Deaths/ 1M pop Total Tests  \\\n",
       "219              NaN          2,32,471            NaN         NaN   \n",
       "220              NaN          5,45,352            NaN       8,632   \n",
       "221              NaN          2,95,339            NaN         NaN   \n",
       "225              NaN          1,93,588            NaN         NaN   \n",
       "226              NaN            36,295            NaN         NaN   \n",
       "\n",
       "    Tests per 1M pop Population          Continent  \n",
       "219              NaN     12,066  Australia/Oceania  \n",
       "220        24,39,107      3,539      South America  \n",
       "221              NaN      6,115             Africa  \n",
       "225              NaN      1,622  Australia/Oceania  \n",
       "226              NaN        799             Europe  "
      ]
     },
     "execution_count": 105,
     "metadata": {},
     "output_type": "execute_result"
    }
   ],
   "source": [
    "#for example if we tack a look to both NA in 'Total Deaths' and 'Serious/critical'\n",
    "df[df['Total Deaths'].isnull() & df['Serious/critical'].isnull()]"
   ]
  },
  {
   "cell_type": "raw",
   "id": "0077ed15",
   "metadata": {},
   "source": [
    "so most of the missing values are in same countries "
   ]
  },
  {
   "cell_type": "code",
   "execution_count": 5,
   "id": "103da657",
   "metadata": {},
   "outputs": [],
   "source": [
    "df.dropna(inplace=True)\n"
   ]
  },
  {
   "cell_type": "code",
   "execution_count": 8,
   "id": "46093545",
   "metadata": {},
   "outputs": [],
   "source": [
    "df['Total Cases']=df['Total Cases'].replace(',', '', regex=True).astype(\"float\")\n",
    "df['Total Deaths']=df['Total Deaths'].replace(',', '', regex=True).astype(\"float\")\n",
    "df['Total Recovered']=df['Total Recovered'].replace(',', '', regex=True).astype(\"float\")\n",
    "df['Serious/critical']=df['Serious/critical'].replace(',', '', regex=True).astype(\"float\")    \n",
    "df['Total Tests']=df['Total Tests'].replace(',', '', regex=True).astype(\"float\")\n",
    "df['Population']=df['Population'].replace(',', '', regex=True).astype(\"float\")\n",
    "df['Active Cases']=df['Active Cases'].replace(',', '', regex=True).astype(\"float\")\n",
    "df['Deaths/ 1M pop']=df['Deaths/ 1M pop'].replace(',', '', regex=True).astype(\"float\")\n",
    "df['Tests per 1M pop']=df['Tests per 1M pop'].replace(',', '', regex=True).astype(\"float\")\n"
   ]
  },
  {
   "cell_type": "code",
   "execution_count": 9,
   "id": "49b09654",
   "metadata": {},
   "outputs": [
    {
     "data": {
      "text/plain": [
       "Country               object\n",
       "Total Cases          float64\n",
       "Total Deaths         float64\n",
       "Total Recovered      float64\n",
       "Active Cases         float64\n",
       "Serious/critical     float64\n",
       "Tot Cases/ 1M pop     object\n",
       "Deaths/ 1M pop       float64\n",
       "Total Tests          float64\n",
       "Tests per 1M pop     float64\n",
       "Population           float64\n",
       "Continent             object\n",
       "dtype: object"
      ]
     },
     "execution_count": 9,
     "metadata": {},
     "output_type": "execute_result"
    }
   ],
   "source": [
    "df.dtypes   "
   ]
  },
  {
   "cell_type": "markdown",
   "id": "a41307c5",
   "metadata": {},
   "source": [
    "STATISTICS"
   ]
  },
  {
   "cell_type": "code",
   "execution_count": 14,
   "id": "9d5a75e2",
   "metadata": {},
   "outputs": [
    {
     "data": {
      "text/html": [
       "<div>\n",
       "<style scoped>\n",
       "    .dataframe tbody tr th:only-of-type {\n",
       "        vertical-align: middle;\n",
       "    }\n",
       "\n",
       "    .dataframe tbody tr th {\n",
       "        vertical-align: top;\n",
       "    }\n",
       "\n",
       "    .dataframe thead th {\n",
       "        text-align: right;\n",
       "    }\n",
       "</style>\n",
       "<table border=\"1\" class=\"dataframe\">\n",
       "  <thead>\n",
       "    <tr style=\"text-align: right;\">\n",
       "      <th></th>\n",
       "      <th>Total Cases</th>\n",
       "      <th>Total Deaths</th>\n",
       "      <th>Total Recovered</th>\n",
       "      <th>Active Cases</th>\n",
       "      <th>Serious/critical</th>\n",
       "      <th>Deaths/ 1M pop</th>\n",
       "      <th>Total Tests</th>\n",
       "      <th>Tests per 1M pop</th>\n",
       "      <th>Population</th>\n",
       "    </tr>\n",
       "  </thead>\n",
       "  <tbody>\n",
       "    <tr>\n",
       "      <th>count</th>\n",
       "      <td>1.280000e+02</td>\n",
       "      <td>1.280000e+02</td>\n",
       "      <td>1.280000e+02</td>\n",
       "      <td>1.280000e+02</td>\n",
       "      <td>128.000000</td>\n",
       "      <td>128.000000</td>\n",
       "      <td>1.280000e+02</td>\n",
       "      <td>1.280000e+02</td>\n",
       "      <td>1.280000e+02</td>\n",
       "    </tr>\n",
       "    <tr>\n",
       "      <th>mean</th>\n",
       "      <td>4.724170e+06</td>\n",
       "      <td>4.838240e+04</td>\n",
       "      <td>4.535877e+06</td>\n",
       "      <td>1.399105e+05</td>\n",
       "      <td>295.828125</td>\n",
       "      <td>1464.140625</td>\n",
       "      <td>4.924264e+07</td>\n",
       "      <td>2.215632e+06</td>\n",
       "      <td>5.432350e+07</td>\n",
       "    </tr>\n",
       "    <tr>\n",
       "      <th>std</th>\n",
       "      <td>1.197567e+07</td>\n",
       "      <td>1.346326e+05</td>\n",
       "      <td>1.157490e+07</td>\n",
       "      <td>6.261460e+05</td>\n",
       "      <td>983.261102</td>\n",
       "      <td>1329.807811</td>\n",
       "      <td>1.469272e+08</td>\n",
       "      <td>3.446441e+06</td>\n",
       "      <td>1.827310e+08</td>\n",
       "    </tr>\n",
       "    <tr>\n",
       "      <th>min</th>\n",
       "      <td>3.306000e+03</td>\n",
       "      <td>2.000000e+00</td>\n",
       "      <td>1.399000e+03</td>\n",
       "      <td>2.000000e+00</td>\n",
       "      <td>1.000000</td>\n",
       "      <td>4.000000</td>\n",
       "      <td>1.890100e+04</td>\n",
       "      <td>9.759000e+03</td>\n",
       "      <td>5.759000e+03</td>\n",
       "    </tr>\n",
       "    <tr>\n",
       "      <th>25%</th>\n",
       "      <td>1.115142e+05</td>\n",
       "      <td>7.802500e+02</td>\n",
       "      <td>9.658950e+04</td>\n",
       "      <td>7.135000e+02</td>\n",
       "      <td>4.750000</td>\n",
       "      <td>375.000000</td>\n",
       "      <td>7.033648e+05</td>\n",
       "      <td>2.929745e+05</td>\n",
       "      <td>2.009734e+06</td>\n",
       "    </tr>\n",
       "    <tr>\n",
       "      <th>50%</th>\n",
       "      <td>9.874225e+05</td>\n",
       "      <td>7.562000e+03</td>\n",
       "      <td>9.055150e+05</td>\n",
       "      <td>9.274500e+03</td>\n",
       "      <td>22.000000</td>\n",
       "      <td>1127.000000</td>\n",
       "      <td>5.557728e+06</td>\n",
       "      <td>1.255866e+06</td>\n",
       "      <td>9.873414e+06</td>\n",
       "    </tr>\n",
       "    <tr>\n",
       "      <th>75%</th>\n",
       "      <td>4.135242e+06</td>\n",
       "      <td>3.086350e+04</td>\n",
       "      <td>4.010469e+06</td>\n",
       "      <td>3.621550e+04</td>\n",
       "      <td>101.000000</td>\n",
       "      <td>2168.250000</td>\n",
       "      <td>3.140991e+07</td>\n",
       "      <td>2.903497e+06</td>\n",
       "      <td>3.774803e+07</td>\n",
       "    </tr>\n",
       "    <tr>\n",
       "      <th>max</th>\n",
       "      <td>1.018659e+08</td>\n",
       "      <td>1.113808e+06</td>\n",
       "      <td>9.897694e+07</td>\n",
       "      <td>6.578707e+06</td>\n",
       "      <td>8318.000000</td>\n",
       "      <td>6470.000000</td>\n",
       "      <td>1.149473e+09</td>\n",
       "      <td>2.250430e+07</td>\n",
       "      <td>1.448471e+09</td>\n",
       "    </tr>\n",
       "  </tbody>\n",
       "</table>\n",
       "</div>"
      ],
      "text/plain": [
       "        Total Cases  Total Deaths  Total Recovered  Active Cases  \\\n",
       "count  1.280000e+02  1.280000e+02     1.280000e+02  1.280000e+02   \n",
       "mean   4.724170e+06  4.838240e+04     4.535877e+06  1.399105e+05   \n",
       "std    1.197567e+07  1.346326e+05     1.157490e+07  6.261460e+05   \n",
       "min    3.306000e+03  2.000000e+00     1.399000e+03  2.000000e+00   \n",
       "25%    1.115142e+05  7.802500e+02     9.658950e+04  7.135000e+02   \n",
       "50%    9.874225e+05  7.562000e+03     9.055150e+05  9.274500e+03   \n",
       "75%    4.135242e+06  3.086350e+04     4.010469e+06  3.621550e+04   \n",
       "max    1.018659e+08  1.113808e+06     9.897694e+07  6.578707e+06   \n",
       "\n",
       "       Serious/critical  Deaths/ 1M pop   Total Tests  Tests per 1M pop  \\\n",
       "count        128.000000      128.000000  1.280000e+02      1.280000e+02   \n",
       "mean         295.828125     1464.140625  4.924264e+07      2.215632e+06   \n",
       "std          983.261102     1329.807811  1.469272e+08      3.446441e+06   \n",
       "min            1.000000        4.000000  1.890100e+04      9.759000e+03   \n",
       "25%            4.750000      375.000000  7.033648e+05      2.929745e+05   \n",
       "50%           22.000000     1127.000000  5.557728e+06      1.255866e+06   \n",
       "75%          101.000000     2168.250000  3.140991e+07      2.903497e+06   \n",
       "max         8318.000000     6470.000000  1.149473e+09      2.250430e+07   \n",
       "\n",
       "         Population  \n",
       "count  1.280000e+02  \n",
       "mean   5.432350e+07  \n",
       "std    1.827310e+08  \n",
       "min    5.759000e+03  \n",
       "25%    2.009734e+06  \n",
       "50%    9.873414e+06  \n",
       "75%    3.774803e+07  \n",
       "max    1.448471e+09  "
      ]
     },
     "execution_count": 14,
     "metadata": {},
     "output_type": "execute_result"
    }
   ],
   "source": [
    "df.describe()"
   ]
  },
  {
   "cell_type": "code",
   "execution_count": 115,
   "id": "d01a242a",
   "metadata": {},
   "outputs": [
    {
     "data": {
      "text/html": [
       "<div>\n",
       "<style scoped>\n",
       "    .dataframe tbody tr th:only-of-type {\n",
       "        vertical-align: middle;\n",
       "    }\n",
       "\n",
       "    .dataframe tbody tr th {\n",
       "        vertical-align: top;\n",
       "    }\n",
       "\n",
       "    .dataframe thead th {\n",
       "        text-align: right;\n",
       "    }\n",
       "</style>\n",
       "<table border=\"1\" class=\"dataframe\">\n",
       "  <thead>\n",
       "    <tr style=\"text-align: right;\">\n",
       "      <th></th>\n",
       "      <th>count</th>\n",
       "      <th>unique</th>\n",
       "      <th>top</th>\n",
       "      <th>freq</th>\n",
       "    </tr>\n",
       "  </thead>\n",
       "  <tbody>\n",
       "    <tr>\n",
       "      <th>Country</th>\n",
       "      <td>128</td>\n",
       "      <td>128</td>\n",
       "      <td>USA</td>\n",
       "      <td>1</td>\n",
       "    </tr>\n",
       "    <tr>\n",
       "      <th>Tot Cases/ 1M pop</th>\n",
       "      <td>128</td>\n",
       "      <td>128</td>\n",
       "      <td>3,04,254</td>\n",
       "      <td>1</td>\n",
       "    </tr>\n",
       "    <tr>\n",
       "      <th>Tests per 1M pop</th>\n",
       "      <td>128</td>\n",
       "      <td>128</td>\n",
       "      <td>34,33,258</td>\n",
       "      <td>1</td>\n",
       "    </tr>\n",
       "    <tr>\n",
       "      <th>Continent</th>\n",
       "      <td>128</td>\n",
       "      <td>6</td>\n",
       "      <td>Europe</td>\n",
       "      <td>36</td>\n",
       "    </tr>\n",
       "  </tbody>\n",
       "</table>\n",
       "</div>"
      ],
      "text/plain": [
       "                  count unique        top freq\n",
       "Country             128    128        USA    1\n",
       "Tot Cases/ 1M pop   128    128   3,04,254    1\n",
       "Tests per 1M pop    128    128  34,33,258    1\n",
       "Continent           128      6     Europe   36"
      ]
     },
     "execution_count": 115,
     "metadata": {},
     "output_type": "execute_result"
    }
   ],
   "source": [
    "df.select_dtypes(\"object\").describe().T"
   ]
  },
  {
   "cell_type": "code",
   "execution_count": 15,
   "id": "bc03eca4",
   "metadata": {},
   "outputs": [
    {
     "data": {
      "text/html": [
       "<div>\n",
       "<style scoped>\n",
       "    .dataframe tbody tr th:only-of-type {\n",
       "        vertical-align: middle;\n",
       "    }\n",
       "\n",
       "    .dataframe tbody tr th {\n",
       "        vertical-align: top;\n",
       "    }\n",
       "\n",
       "    .dataframe thead th {\n",
       "        text-align: right;\n",
       "    }\n",
       "</style>\n",
       "<table border=\"1\" class=\"dataframe\">\n",
       "  <thead>\n",
       "    <tr style=\"text-align: right;\">\n",
       "      <th></th>\n",
       "      <th>Country</th>\n",
       "      <th>Total Deaths</th>\n",
       "    </tr>\n",
       "  </thead>\n",
       "  <tbody>\n",
       "    <tr>\n",
       "      <th>0</th>\n",
       "      <td>USA</td>\n",
       "      <td>1113808.0</td>\n",
       "    </tr>\n",
       "    <tr>\n",
       "      <th>4</th>\n",
       "      <td>Brazil</td>\n",
       "      <td>692210.0</td>\n",
       "    </tr>\n",
       "    <tr>\n",
       "      <th>1</th>\n",
       "      <td>India</td>\n",
       "      <td>530680.0</td>\n",
       "    </tr>\n",
       "    <tr>\n",
       "      <th>9</th>\n",
       "      <td>Russia</td>\n",
       "      <td>393166.0</td>\n",
       "    </tr>\n",
       "    <tr>\n",
       "      <th>18</th>\n",
       "      <td>Mexico</td>\n",
       "      <td>330805.0</td>\n",
       "    </tr>\n",
       "    <tr>\n",
       "      <th>34</th>\n",
       "      <td>Peru</td>\n",
       "      <td>217941.0</td>\n",
       "    </tr>\n",
       "    <tr>\n",
       "      <th>8</th>\n",
       "      <td>UK</td>\n",
       "      <td>198271.0</td>\n",
       "    </tr>\n",
       "    <tr>\n",
       "      <th>7</th>\n",
       "      <td>Italy</td>\n",
       "      <td>183138.0</td>\n",
       "    </tr>\n",
       "    <tr>\n",
       "      <th>2</th>\n",
       "      <td>France</td>\n",
       "      <td>160747.0</td>\n",
       "    </tr>\n",
       "    <tr>\n",
       "      <th>19</th>\n",
       "      <td>Indonesia</td>\n",
       "      <td>160466.0</td>\n",
       "    </tr>\n",
       "  </tbody>\n",
       "</table>\n",
       "</div>"
      ],
      "text/plain": [
       "      Country  Total Deaths\n",
       "0         USA     1113808.0\n",
       "4      Brazil      692210.0\n",
       "1       India      530680.0\n",
       "9      Russia      393166.0\n",
       "18     Mexico      330805.0\n",
       "34       Peru      217941.0\n",
       "8          UK      198271.0\n",
       "7       Italy      183138.0\n",
       "2      France      160747.0\n",
       "19  Indonesia      160466.0"
      ]
     },
     "execution_count": 15,
     "metadata": {},
     "output_type": "execute_result"
    }
   ],
   "source": [
    "top_cases=df[['Country','Total Deaths']].sort_values(by=\"Total Deaths\",ascending=False)[:10]\n",
    "top_cases"
   ]
  },
  {
   "cell_type": "code",
   "execution_count": 19,
   "id": "48ab8004",
   "metadata": {
    "scrolled": true
   },
   "outputs": [
    {
     "data": {
      "text/html": [
       "<div>\n",
       "<style scoped>\n",
       "    .dataframe tbody tr th:only-of-type {\n",
       "        vertical-align: middle;\n",
       "    }\n",
       "\n",
       "    .dataframe tbody tr th {\n",
       "        vertical-align: top;\n",
       "    }\n",
       "\n",
       "    .dataframe thead th {\n",
       "        text-align: right;\n",
       "    }\n",
       "</style>\n",
       "<table border=\"1\" class=\"dataframe\">\n",
       "  <thead>\n",
       "    <tr style=\"text-align: right;\">\n",
       "      <th></th>\n",
       "      <th>Country</th>\n",
       "      <th>Total Deaths</th>\n",
       "    </tr>\n",
       "  </thead>\n",
       "  <tbody>\n",
       "    <tr>\n",
       "      <th>193</th>\n",
       "      <td>Saint Martin</td>\n",
       "      <td>63.0</td>\n",
       "    </tr>\n",
       "    <tr>\n",
       "      <th>187</th>\n",
       "      <td>Monaco</td>\n",
       "      <td>63.0</td>\n",
       "    </tr>\n",
       "    <tr>\n",
       "      <th>167</th>\n",
       "      <td>Cayman Islands</td>\n",
       "      <td>36.0</td>\n",
       "    </tr>\n",
       "    <tr>\n",
       "      <th>210</th>\n",
       "      <td>Turks and Caicos</td>\n",
       "      <td>36.0</td>\n",
       "    </tr>\n",
       "    <tr>\n",
       "      <th>186</th>\n",
       "      <td>Samoa</td>\n",
       "      <td>29.0</td>\n",
       "    </tr>\n",
       "    <tr>\n",
       "      <th>195</th>\n",
       "      <td>Greenland</td>\n",
       "      <td>21.0</td>\n",
       "    </tr>\n",
       "    <tr>\n",
       "      <th>216</th>\n",
       "      <td>Anguilla</td>\n",
       "      <td>12.0</td>\n",
       "    </tr>\n",
       "    <tr>\n",
       "      <th>213</th>\n",
       "      <td>Palau</td>\n",
       "      <td>9.0</td>\n",
       "    </tr>\n",
       "    <tr>\n",
       "      <th>218</th>\n",
       "      <td>Saint Pierre Miquelon</td>\n",
       "      <td>2.0</td>\n",
       "    </tr>\n",
       "  </tbody>\n",
       "</table>\n",
       "</div>"
      ],
      "text/plain": [
       "                   Country  Total Deaths\n",
       "193           Saint Martin          63.0\n",
       "187                 Monaco          63.0\n",
       "167         Cayman Islands          36.0\n",
       "210       Turks and Caicos          36.0\n",
       "186                  Samoa          29.0\n",
       "195              Greenland          21.0\n",
       "216               Anguilla          12.0\n",
       "213                  Palau           9.0\n",
       "218  Saint Pierre Miquelon           2.0"
      ]
     },
     "execution_count": 19,
     "metadata": {},
     "output_type": "execute_result"
    }
   ],
   "source": [
    "less_cases =df[['Country','Total Deaths']].sort_values(by=\"Total Deaths\",ascending=False)[119:]\n",
    "less_cases"
   ]
  },
  {
   "cell_type": "code",
   "execution_count": 47,
   "id": "e1d19dea",
   "metadata": {},
   "outputs": [
    {
     "data": {
      "text/html": [
       "<div>\n",
       "<style scoped>\n",
       "    .dataframe tbody tr th:only-of-type {\n",
       "        vertical-align: middle;\n",
       "    }\n",
       "\n",
       "    .dataframe tbody tr th {\n",
       "        vertical-align: top;\n",
       "    }\n",
       "\n",
       "    .dataframe thead th {\n",
       "        text-align: right;\n",
       "    }\n",
       "</style>\n",
       "<table border=\"1\" class=\"dataframe\">\n",
       "  <thead>\n",
       "    <tr style=\"text-align: right;\">\n",
       "      <th></th>\n",
       "      <th>%Serious/critical</th>\n",
       "      <th>Country</th>\n",
       "    </tr>\n",
       "  </thead>\n",
       "  <tbody>\n",
       "    <tr>\n",
       "      <th>114</th>\n",
       "      <td>0.005425</td>\n",
       "      <td>Afghanistan</td>\n",
       "    </tr>\n",
       "    <tr>\n",
       "      <th>196</th>\n",
       "      <td>0.001925</td>\n",
       "      <td>Yemen</td>\n",
       "    </tr>\n",
       "    <tr>\n",
       "      <th>216</th>\n",
       "      <td>0.001025</td>\n",
       "      <td>Anguilla</td>\n",
       "    </tr>\n",
       "    <tr>\n",
       "      <th>97</th>\n",
       "      <td>0.000852</td>\n",
       "      <td>China</td>\n",
       "    </tr>\n",
       "    <tr>\n",
       "      <th>134</th>\n",
       "      <td>0.000759</td>\n",
       "      <td>Malawi</td>\n",
       "    </tr>\n",
       "    <tr>\n",
       "      <th>68</th>\n",
       "      <td>0.000741</td>\n",
       "      <td>Ecuador</td>\n",
       "    </tr>\n",
       "    <tr>\n",
       "      <th>204</th>\n",
       "      <td>0.000678</td>\n",
       "      <td>Guinea-Bissau</td>\n",
       "    </tr>\n",
       "    <tr>\n",
       "      <th>18</th>\n",
       "      <td>0.000667</td>\n",
       "      <td>Mexico</td>\n",
       "    </tr>\n",
       "    <tr>\n",
       "      <th>47</th>\n",
       "      <td>0.000653</td>\n",
       "      <td>Bangladesh</td>\n",
       "    </tr>\n",
       "    <tr>\n",
       "      <th>115</th>\n",
       "      <td>0.000634</td>\n",
       "      <td>Kyrgyzstan</td>\n",
       "    </tr>\n",
       "  </tbody>\n",
       "</table>\n",
       "</div>"
      ],
      "text/plain": [
       "     %Serious/critical        Country\n",
       "114           0.005425    Afghanistan\n",
       "196           0.001925          Yemen\n",
       "216           0.001025       Anguilla\n",
       "97            0.000852          China\n",
       "134           0.000759         Malawi\n",
       "68            0.000741        Ecuador\n",
       "204           0.000678  Guinea-Bissau\n",
       "18            0.000667         Mexico\n",
       "47            0.000653     Bangladesh\n",
       "115           0.000634     Kyrgyzstan"
      ]
     },
     "execution_count": 47,
     "metadata": {},
     "output_type": "execute_result"
    }
   ],
   "source": [
    "df['%Serious/critical']=df['Serious/critical']/df['Total Cases']\n",
    "most_serious_by_country=df[['%Serious/critical','Country']].sort_values(by=\"%Serious/critical\",\n",
    "                                                                       ascending=False)[:10]\n",
    "most_serious_by_country"
   ]
  },
  {
   "cell_type": "code",
   "execution_count": 54,
   "id": "50d18ff1",
   "metadata": {},
   "outputs": [
    {
     "data": {
      "text/html": [
       "<div>\n",
       "<style scoped>\n",
       "    .dataframe tbody tr th:only-of-type {\n",
       "        vertical-align: middle;\n",
       "    }\n",
       "\n",
       "    .dataframe tbody tr th {\n",
       "        vertical-align: top;\n",
       "    }\n",
       "\n",
       "    .dataframe thead th {\n",
       "        text-align: right;\n",
       "    }\n",
       "</style>\n",
       "<table border=\"1\" class=\"dataframe\">\n",
       "  <thead>\n",
       "    <tr style=\"text-align: right;\">\n",
       "      <th></th>\n",
       "      <th>%Serious/critical</th>\n",
       "      <th>Country</th>\n",
       "    </tr>\n",
       "  </thead>\n",
       "  <tbody>\n",
       "    <tr>\n",
       "      <th>16</th>\n",
       "      <td>0.000005</td>\n",
       "      <td>Netherlands</td>\n",
       "    </tr>\n",
       "    <tr>\n",
       "      <th>96</th>\n",
       "      <td>0.000005</td>\n",
       "      <td>Oman</td>\n",
       "    </tr>\n",
       "    <tr>\n",
       "      <th>62</th>\n",
       "      <td>0.000004</td>\n",
       "      <td>Guatemala</td>\n",
       "    </tr>\n",
       "    <tr>\n",
       "      <th>91</th>\n",
       "      <td>0.000004</td>\n",
       "      <td>Qatar</td>\n",
       "    </tr>\n",
       "    <tr>\n",
       "      <th>90</th>\n",
       "      <td>0.000004</td>\n",
       "      <td>Ethiopia</td>\n",
       "    </tr>\n",
       "    <tr>\n",
       "      <th>12</th>\n",
       "      <td>0.000004</td>\n",
       "      <td>Vietnam</td>\n",
       "    </tr>\n",
       "    <tr>\n",
       "      <th>74</th>\n",
       "      <td>0.000003</td>\n",
       "      <td>Latvia</td>\n",
       "    </tr>\n",
       "    <tr>\n",
       "      <th>102</th>\n",
       "      <td>0.000003</td>\n",
       "      <td>Botswana</td>\n",
       "    </tr>\n",
       "    <tr>\n",
       "      <th>99</th>\n",
       "      <td>0.000003</td>\n",
       "      <td>Kenya</td>\n",
       "    </tr>\n",
       "    <tr>\n",
       "      <th>78</th>\n",
       "      <td>0.000003</td>\n",
       "      <td>Bahrain</td>\n",
       "    </tr>\n",
       "    <tr>\n",
       "      <th>44</th>\n",
       "      <td>0.000003</td>\n",
       "      <td>Singapore</td>\n",
       "    </tr>\n",
       "  </tbody>\n",
       "</table>\n",
       "</div>"
      ],
      "text/plain": [
       "     %Serious/critical      Country\n",
       "16            0.000005  Netherlands\n",
       "96            0.000005         Oman\n",
       "62            0.000004    Guatemala\n",
       "91            0.000004        Qatar\n",
       "90            0.000004     Ethiopia\n",
       "12            0.000004      Vietnam\n",
       "74            0.000003       Latvia\n",
       "102           0.000003     Botswana\n",
       "99            0.000003        Kenya\n",
       "78            0.000003      Bahrain\n",
       "44            0.000003    Singapore"
      ]
     },
     "execution_count": 54,
     "metadata": {},
     "output_type": "execute_result"
    }
   ],
   "source": [
    "less_serious_by_country=df[['%Serious/critical','Country']].sort_values(by=\"%Serious/critical\",\n",
    "                                                             ascending=False)[117:]\n",
    "less_serious_by_country"
   ]
  },
  {
   "cell_type": "markdown",
   "id": "cf0def73",
   "metadata": {},
   "source": [
    "DATA VISUALIZATION"
   ]
  },
  {
   "cell_type": "code",
   "execution_count": 61,
   "id": "4b0c147a",
   "metadata": {},
   "outputs": [
    {
     "data": {
      "image/png": "[encoded data removed]",
      "text/plain": [
       "<Figure size 1400x1500 with 2 Axes>"
      ]
     },
     "metadata": {},
     "output_type": "display_data"
    }
   ],
   "source": [
    "plt.figure(figsize=(14, 15))\n",
    "plt.subplot(2, 2, 1)\n",
    "sns.barplot(top_cases,x='Country',y='Total Deaths', color='red')\n",
    "plt.title('Top 10 Countries with most Deaths',fontweight='bold')\n",
    "plt.xticks(rotation=75)\n",
    "plt.subplot(2,2,2)\n",
    "sns.barplot(less_cases,x='Country',y='Total Deaths', color='teal')\n",
    "plt.title('Top 10 Countries with less Deaths',fontweight='bold')\n",
    "plt.xticks(rotation=75)\n",
    "plt.show()"
   ]
  },
  {
   "cell_type": "code",
   "execution_count": 63,
   "id": "ea8c8fad",
   "metadata": {},
   "outputs": [
    {
     "data": {
      "image/png": "[encoded data removed]",
      "text/plain": [
       "<Figure size 1400x1500 with 2 Axes>"
      ]
     },
     "metadata": {},
     "output_type": "display_data"
    }
   ],
   "source": [
    "plt.figure(figsize=(14, 15))\n",
    "plt.subplot(2, 2, 1)\n",
    "sns.barplot(most_serious_by_country,x='Country',y='%Serious/critical', color='black')\n",
    "plt.title('Top 10 most critical cases by countries',fontweight='bold')\n",
    "plt.xticks(rotation=75)\n",
    "plt.subplot(2,2,2)\n",
    "sns.barplot(less_serious_by_country,x='Country',y='%Serious/critical', color='yellow')\n",
    "plt.title('Top 10 less critical caes by contry ',fontweight='bold')\n",
    "plt.xticks(rotation=75)\n",
    "plt.show()"
   ]
  },
  {
   "cell_type": "code",
   "execution_count": 59,
   "id": "72f18eff",
   "metadata": {},
   "outputs": [
    {
     "data": {
      "text/plain": [
       "<Figure size 1700x1200 with 0 Axes>"
      ]
     },
     "metadata": {},
     "output_type": "display_data"
    },
    {
     "data": {
      "image/png": "[encoded data removed]",
      "text/plain": [
       "<Figure size 1000x1000 with 4 Axes>"
      ]
     },
     "metadata": {},
     "output_type": "display_data"
    }
   ],
   "source": [
    "corr=df.corr()\n",
    "plt.figure(figsize=(17,12))\n",
    "sns.clustermap(corr,annot=True,cmap='afmhot');\n"
   ]
  },
  {
   "cell_type": "code",
   "execution_count": 71,
   "id": "2fba8330",
   "metadata": {
    "scrolled": true
   },
   "outputs": [
    {
     "data": {
      "application/vnd.plotly.v1+json": {
       "config": {
        "plotlyServerURL": "https://plot.ly"
       },
       "data": [
        {
         "geo": "geo",
         "hovertemplate": "Total Deaths=%{marker.color}<br>Country=%{location}<extra></extra>",
         "legendgroup": "",
         "locationmode": "country names",
         "locations": [
          "USA",
          "India",
          "France",
          "Germany",
          "Brazil",
          "S. Korea",
          "Japan",
          "Italy",
          "UK",
          "Russia",
          "Spain",
          "Vietnam",
          "Australia",
          "Argentina",
          "Netherlands",
          "Iran",
          "Mexico",
          "Indonesia",
          "Poland",
          "Colombia",
          "Austria",
          "Portugal",
          "Greece",
          "Malaysia",
          "Chile",
          "Israel",
          "Thailand",
          "Belgium",
          "Czechia",
          "Canada",
          "Peru",
          "Switzerland",
          "Philippines",
          "South Africa",
          "Romania",
          "Denmark",
          "Sweden",
          "Iraq",
          "Serbia",
          "Hong Kong",
          "Singapore",
          "Hungary",
          "Bangladesh",
          "Slovakia",
          "Jordan",
          "Ireland",
          "Pakistan",
          "Norway",
          "Finland",
          "Kazakhstan",
          "Slovenia",
          "Bulgaria",
          "Lithuania",
          "Morocco",
          "Croatia",
          "Lebanon",
          "Guatemala",
          "Costa Rica",
          "Bolivia",
          "Cuba",
          "Ecuador",
          "Panama",
          "Mongolia",
          "Uruguay",
          "Latvia",
          "Saudi Arabia",
          "Bahrain",
          "Dominican Republic",
          "Cyprus",
          "Palestine",
          "Estonia",
          "Moldova",
          "Venezuela",
          "Egypt",
          "Ethiopia",
          "Qatar",
          "Réunion",
          "Oman",
          "China",
          "Kenya",
          "Botswana",
          "Montenegro",
          "Nigeria",
          "Brunei",
          "Zimbabwe",
          "Uzbekistan",
          "Mozambique",
          "Afghanistan",
          "Kyrgyzstan",
          "El Salvador",
          "Trinidad and Tobago",
          "Maldives",
          "Ghana",
          "Uganda",
          "Cameroon",
          "Malta",
          "French Guiana",
          "Malawi",
          "New Caledonia",
          "Belize",
          "Cabo Verde",
          "Andorra",
          "Papua New Guinea",
          "Curaçao",
          "Aruba",
          "Guinea",
          "Bahamas",
          "Cayman Islands",
          "Benin",
          "San Marino",
          "Liechtenstein",
          "Grenada",
          "South Sudan",
          "Equatorial Guinea",
          "Samoa",
          "Monaco",
          "CAR",
          "Saint Martin",
          "Greenland",
          "Yemen",
          "Niger",
          "Antigua and Barbuda",
          "Guinea-Bissau",
          "Liberia",
          "Turks and Caicos",
          "Palau",
          "Anguilla",
          "Saint Pierre Miquelon"
         ],
         "marker": {
          "color": [
           1113808,
           530680,
           160747,
           160246,
           692210,
           31549,
           54026,
           183138,
           198271,
           393166,
           116658,
           43181,
           16734,
           130080,
           22952,
           144672,
           330805,
           160466,
           118448,
           141996,
           21345,
           25643,
           34614,
           36814,
           62913,
           11973,
           33505,
           33211,
           42044,
           48645,
           217941,
           14364,
           65142,
           102568,
           67341,
           7680,
           21332,
           25373,
           17477,
           11293,
           1710,
           48439,
           29438,
           20792,
           14122,
           8270,
           30635,
           4571,
           7783,
           13694,
           6976,
           38082,
           9459,
           16294,
           17483,
           10743,
           19986,
           9051,
           22271,
           8530,
           35940,
           8554,
           2179,
           7552,
           6139,
           9502,
           1539,
           4384,
           1250,
           5404,
           2837,
           11929,
           5830,
           24613,
           7572,
           685,
           907,
           4260,
           5241,
           5688,
           2794,
           2790,
           3155,
           225,
           5637,
           1637,
           2229,
           7845,
           2991,
           4230,
           4277,
           311,
           1461,
           3630,
           1965,
           811,
           412,
           2685,
           314,
           688,
           412,
           165,
           669,
           295,
           236,
           465,
           833,
           36,
           163,
           120,
           88,
           237,
           138,
           183,
           29,
           63,
           113,
           63,
           21,
           2159,
           312,
           146,
           176,
           294,
           36,
           9,
           12,
           2
          ],
          "coloraxis": "coloraxis",
          "size": [
           1113808,
           530680,
           160747,
           160246,
           692210,
           31549,
           54026,
           183138,
           198271,
           393166,
           116658,
           43181,
           16734,
           130080,
           22952,
           144672,
           330805,
           160466,
           118448,
           141996,
           21345,
           25643,
           34614,
           36814,
           62913,
           11973,
           33505,
           33211,
           42044,
           48645,
           217941,
           14364,
           65142,
           102568,
           67341,
           7680,
           21332,
           25373,
           17477,
           11293,
           1710,
           48439,
           29438,
           20792,
           14122,
           8270,
           30635,
           4571,
           7783,
           13694,
           6976,
           38082,
           9459,
           16294,
           17483,
           10743,
           19986,
           9051,
           22271,
           8530,
           35940,
           8554,
           2179,
           7552,
           6139,
           9502,
           1539,
           4384,
           1250,
           5404,
           2837,
           11929,
           5830,
           24613,
           7572,
           685,
           907,
           4260,
           5241,
           5688,
           2794,
           2790,
           3155,
           225,
           5637,
           1637,
           2229,
           7845,
           2991,
           4230,
           4277,
           311,
           1461,
           3630,
           1965,
           811,
           412,
           2685,
           314,
           688,
           412,
           165,
           669,
           295,
           236,
           465,
           833,
           36,
           163,
           120,
           88,
           237,
           138,
           183,
           29,
           63,
           113,
           63,
           21,
           2159,
           312,
           146,
           176,
           294,
           36,
           9,
           12,
           2
          ],
          "sizemode": "area",
          "sizeref": 550.0286419753087,
          "symbol": "circle"
         },
         "mode": "markers",
         "name": "",
         "showlegend": false,
         "type": "scattergeo"
        }
       ],
       "layout": {
        "coloraxis": {
         "colorbar": {
          "title": {
           "text": "Total Deaths"
          }
         },
         "colorscale": [
          [
           0,
           "#30123b"
          ],
          [
           0.07142857142857142,
           "#4145ab"
          ],
          [
           0.14285714285714285,
           "#4675ed"
          ],
          [
           0.21428571428571427,
           "#39a2fc"
          ],
          [
           0.2857142857142857,
           "#1bcfd4"
          ],
          [
           0.35714285714285715,
           "#24eca6"
          ],
          [
           0.42857142857142855,
           "#61fc6c"
          ],
          [
           0.5,
           "#a4fc3b"
          ],
          [
           0.5714285714285714,
           "#d1e834"
          ],
          [
           0.6428571428571429,
           "#f3c63a"
          ],
          [
           0.7142857142857143,
           "#fe9b2d"
          ],
          [
           0.7857142857142857,
           "#f36315"
          ],
          [
           0.8571428571428571,
           "#d93806"
          ],
          [
           0.9285714285714286,
           "#b11901"
          ],
          [
           1,
           "#7a0402"
          ]
         ]
        },
        "geo": {
         "center": {},
         "domain": {
          "x": [
           0,
           1
          ],
          "y": [
           0,
           1
          ]
         },
         "scope": "world"
        },
        "legend": {
         "itemsizing": "constant",
         "tracegroupgap": 0
        },
        "template": {
         "data": {
          "bar": [
           {
            "error_x": {
             "color": "#2a3f5f"
            },
            "error_y": {
             "color": "#2a3f5f"
            },
            "marker": {
             "line": {
              "color": "#E5ECF6",
              "width": 0.5
             },
             "pattern": {
              "fillmode": "overlay",
              "size": 10,
              "solidity": 0.2
             }
            },
            "type": "bar"
           }
          ],
          "barpolar": [
           {
            "marker": {
             "line": {
              "color": "#E5ECF6",
              "width": 0.5
             },
             "pattern": {
              "fillmode": "overlay",
              "size": 10,
              "solidity": 0.2
             }
            },
            "type": "barpolar"
           }
          ],
          "carpet": [
           {
            "aaxis": {
             "endlinecolor": "#2a3f5f",
             "gridcolor": "white",
             "linecolor": "white",
             "minorgridcolor": "white",
             "startlinecolor": "#2a3f5f"
            },
            "baxis": {
             "endlinecolor": "#2a3f5f",
             "gridcolor": "white",
             "linecolor": "white",
             "minorgridcolor": "white",
             "startlinecolor": "#2a3f5f"
            },
            "type": "carpet"
           }
          ],
          "choropleth": [
           {
            "colorbar": {
             "outlinewidth": 0,
             "ticks": ""
            },
            "type": "choropleth"
           }
          ],
          "contour": [
           {
            "colorbar": {
             "outlinewidth": 0,
             "ticks": ""
            },
            "colorscale": [
             [
              0,
              "#0d0887"
             ],
             [
              0.1111111111111111,
              "#46039f"
             ],
             [
              0.2222222222222222,
              "#7201a8"
             ],
             [
              0.3333333333333333,
              "#9c179e"
             ],
             [
              0.4444444444444444,
              "#bd3786"
             ],
             [
              0.5555555555555556,
              "#d8576b"
             ],
             [
              0.6666666666666666,
              "#ed7953"
             ],
             [
              0.7777777777777778,
              "#fb9f3a"
             ],
             [
              0.8888888888888888,
              "#fdca26"
             ],
             [
              1,
              "#f0f921"
             ]
            ],
            "type": "contour"
           }
          ],
          "contourcarpet": [
           {
            "colorbar": {
             "outlinewidth": 0,
             "ticks": ""
            },
            "type": "contourcarpet"
           }
          ],
          "heatmap": [
           {
            "colorbar": {
             "outlinewidth": 0,
             "ticks": ""
            },
            "colorscale": [
             [
              0,
              "#0d0887"
             ],
             [
              0.1111111111111111,
              "#46039f"
             ],
             [
              0.2222222222222222,
              "#7201a8"
             ],
             [
              0.3333333333333333,
              "#9c179e"
             ],
             [
              0.4444444444444444,
              "#bd3786"
             ],
             [
              0.5555555555555556,
              "#d8576b"
             ],
             [
              0.6666666666666666,
              "#ed7953"
             ],
             [
              0.7777777777777778,
              "#fb9f3a"
             ],
             [
              0.8888888888888888,
              "#fdca26"
             ],
             [
              1,
              "#f0f921"
             ]
            ],
            "type": "heatmap"
           }
          ],
          "heatmapgl": [
           {
            "colorbar": {
             "outlinewidth": 0,
             "ticks": ""
            },
            "colorscale": [
             [
              0,
              "#0d0887"
             ],
             [
              0.1111111111111111,
              "#46039f"
             ],
             [
              0.2222222222222222,
              "#7201a8"
             ],
             [
              0.3333333333333333,
              "#9c179e"
             ],
             [
              0.4444444444444444,
              "#bd3786"
             ],
             [
              0.5555555555555556,
              "#d8576b"
             ],
             [
              0.6666666666666666,
              "#ed7953"
             ],
             [
              0.7777777777777778,
              "#fb9f3a"
             ],
             [
              0.8888888888888888,
              "#fdca26"
             ],
             [
              1,
              "#f0f921"
             ]
            ],
            "type": "heatmapgl"
           }
          ],
          "histogram": [
           {
            "marker": {
             "pattern": {
              "fillmode": "overlay",
              "size": 10,
              "solidity": 0.2
             }
            },
            "type": "histogram"
           }
          ],
          "histogram2d": [
           {
            "colorbar": {
             "outlinewidth": 0,
             "ticks": ""
            },
            "colorscale": [
             [
              0,
              "#0d0887"
             ],
             [
              0.1111111111111111,
              "#46039f"
             ],
             [
              0.2222222222222222,
              "#7201a8"
             ],
             [
              0.3333333333333333,
              "#9c179e"
             ],
             [
              0.4444444444444444,
              "#bd3786"
             ],
             [
              0.5555555555555556,
              "#d8576b"
             ],
             [
              0.6666666666666666,
              "#ed7953"
             ],
             [
              0.7777777777777778,
              "#fb9f3a"
             ],
             [
              0.8888888888888888,
              "#fdca26"
             ],
             [
              1,
              "#f0f921"
             ]
            ],
            "type": "histogram2d"
           }
          ],
          "histogram2dcontour": [
           {
            "colorbar": {
             "outlinewidth": 0,
             "ticks": ""
            },
            "colorscale": [
             [
              0,
              "#0d0887"
             ],
             [
              0.1111111111111111,
              "#46039f"
             ],
             [
              0.2222222222222222,
              "#7201a8"
             ],
             [
              0.3333333333333333,
              "#9c179e"
             ],
             [
              0.4444444444444444,
              "#bd3786"
             ],
             [
              0.5555555555555556,
              "#d8576b"
             ],
             [
              0.6666666666666666,
              "#ed7953"
             ],
             [
              0.7777777777777778,
              "#fb9f3a"
             ],
             [
              0.8888888888888888,
              "#fdca26"
             ],
             [
              1,
              "#f0f921"
             ]
            ],
            "type": "histogram2dcontour"
           }
          ],
          "mesh3d": [
           {
            "colorbar": {
             "outlinewidth": 0,
             "ticks": ""
            },
            "type": "mesh3d"
           }
          ],
          "parcoords": [
           {
            "line": {
             "colorbar": {
              "outlinewidth": 0,
              "ticks": ""
             }
            },
            "type": "parcoords"
           }
          ],
          "pie": [
           {
            "automargin": true,
            "type": "pie"
           }
          ],
          "scatter": [
           {
            "fillpattern": {
             "fillmode": "overlay",
             "size": 10,
             "solidity": 0.2
            },
            "type": "scatter"
           }
          ],
          "scatter3d": [
           {
            "line": {
             "colorbar": {
              "outlinewidth": 0,
              "ticks": ""
             }
            },
            "marker": {
             "colorbar": {
              "outlinewidth": 0,
              "ticks": ""
             }
            },
            "type": "scatter3d"
           }
          ],
          "scattercarpet": [
           {
            "marker": {
             "colorbar": {
              "outlinewidth": 0,
              "ticks": ""
             }
            },
            "type": "scattercarpet"
           }
          ],
          "scattergeo": [
           {
            "marker": {
             "colorbar": {
              "outlinewidth": 0,
              "ticks": ""
             }
            },
            "type": "scattergeo"
           }
          ],
          "scattergl": [
           {
            "marker": {
             "colorbar": {
              "outlinewidth": 0,
              "ticks": ""
             }
            },
            "type": "scattergl"
           }
          ],
          "scattermapbox": [
           {
            "marker": {
             "colorbar": {
              "outlinewidth": 0,
              "ticks": ""
             }
            },
            "type": "scattermapbox"
           }
          ],
          "scatterpolar": [
           {
            "marker": {
             "colorbar": {
              "outlinewidth": 0,
              "ticks": ""
             }
            },
            "type": "scatterpolar"
           }
          ],
          "scatterpolargl": [
           {
            "marker": {
             "colorbar": {
              "outlinewidth": 0,
              "ticks": ""
             }
            },
            "type": "scatterpolargl"
           }
          ],
          "scatterternary": [
           {
            "marker": {
             "colorbar": {
              "outlinewidth": 0,
              "ticks": ""
             }
            },
            "type": "scatterternary"
           }
          ],
          "surface": [
           {
            "colorbar": {
             "outlinewidth": 0,
             "ticks": ""
            },
            "colorscale": [
             [
              0,
              "#0d0887"
             ],
             [
              0.1111111111111111,
              "#46039f"
             ],
             [
              0.2222222222222222,
              "#7201a8"
             ],
             [
              0.3333333333333333,
              "#9c179e"
             ],
             [
              0.4444444444444444,
              "#bd3786"
             ],
             [
              0.5555555555555556,
              "#d8576b"
             ],
             [
              0.6666666666666666,
              "#ed7953"
             ],
             [
              0.7777777777777778,
              "#fb9f3a"
             ],
             [
              0.8888888888888888,
              "#fdca26"
             ],
             [
              1,
              "#f0f921"
             ]
            ],
            "type": "surface"
           }
          ],
          "table": [
           {
            "cells": {
             "fill": {
              "color": "#EBF0F8"
             },
             "line": {
              "color": "white"
             }
            },
            "header": {
             "fill": {
              "color": "#C8D4E3"
             },
             "line": {
              "color": "white"
             }
            },
            "type": "table"
           }
          ]
         },
         "layout": {
          "annotationdefaults": {
           "arrowcolor": "#2a3f5f",
           "arrowhead": 0,
           "arrowwidth": 1
          },
          "autotypenumbers": "strict",
          "coloraxis": {
           "colorbar": {
            "outlinewidth": 0,
            "ticks": ""
           }
          },
          "colorscale": {
           "diverging": [
            [
             0,
             "#8e0152"
            ],
            [
             0.1,
             "#c51b7d"
            ],
            [
             0.2,
             "#de77ae"
            ],
            [
             0.3,
             "#f1b6da"
            ],
            [
             0.4,
             "#fde0ef"
            ],
            [
             0.5,
             "#f7f7f7"
            ],
            [
             0.6,
             "#e6f5d0"
            ],
            [
             0.7,
             "#b8e186"
            ],
            [
             0.8,
             "#7fbc41"
            ],
            [
             0.9,
             "#4d9221"
            ],
            [
             1,
             "#276419"
            ]
           ],
           "sequential": [
            [
             0,
             "#0d0887"
            ],
            [
             0.1111111111111111,
             "#46039f"
            ],
            [
             0.2222222222222222,
             "#7201a8"
            ],
            [
             0.3333333333333333,
             "#9c179e"
            ],
            [
             0.4444444444444444,
             "#bd3786"
            ],
            [
             0.5555555555555556,
             "#d8576b"
            ],
            [
             0.6666666666666666,
             "#ed7953"
            ],
            [
             0.7777777777777778,
             "#fb9f3a"
            ],
            [
             0.8888888888888888,
             "#fdca26"
            ],
            [
             1,
             "#f0f921"
            ]
           ],
           "sequentialminus": [
            [
             0,
             "#0d0887"
            ],
            [
             0.1111111111111111,
             "#46039f"
            ],
            [
             0.2222222222222222,
             "#7201a8"
            ],
            [
             0.3333333333333333,
             "#9c179e"
            ],
            [
             0.4444444444444444,
             "#bd3786"
            ],
            [
             0.5555555555555556,
             "#d8576b"
            ],
            [
             0.6666666666666666,
             "#ed7953"
            ],
            [
             0.7777777777777778,
             "#fb9f3a"
            ],
            [
             0.8888888888888888,
             "#fdca26"
            ],
            [
             1,
             "#f0f921"
            ]
           ]
          },
          "colorway": [
           "#636efa",
           "#EF553B",
           "#00cc96",
           "#ab63fa",
           "#FFA15A",
           "#19d3f3",
           "#FF6692",
           "#B6E880",
           "#FF97FF",
           "#FECB52"
          ],
          "font": {
           "color": "#2a3f5f"
          },
          "geo": {
           "bgcolor": "white",
           "lakecolor": "white",
           "landcolor": "#E5ECF6",
           "showlakes": true,
           "showland": true,
           "subunitcolor": "white"
          },
          "hoverlabel": {
           "align": "left"
          },
          "hovermode": "closest",
          "mapbox": {
           "style": "light"
          },
          "paper_bgcolor": "white",
          "plot_bgcolor": "#E5ECF6",
          "polar": {
           "angularaxis": {
            "gridcolor": "white",
            "linecolor": "white",
            "ticks": ""
           },
           "bgcolor": "#E5ECF6",
           "radialaxis": {
            "gridcolor": "white",
            "linecolor": "white",
            "ticks": ""
           }
          },
          "scene": {
           "xaxis": {
            "backgroundcolor": "#E5ECF6",
            "gridcolor": "white",
            "gridwidth": 2,
            "linecolor": "white",
            "showbackground": true,
            "ticks": "",
            "zerolinecolor": "white"
           },
           "yaxis": {
            "backgroundcolor": "#E5ECF6",
            "gridcolor": "white",
            "gridwidth": 2,
            "linecolor": "white",
            "showbackground": true,
            "ticks": "",
            "zerolinecolor": "white"
           },
           "zaxis": {
            "backgroundcolor": "#E5ECF6",
            "gridcolor": "white",
            "gridwidth": 2,
            "linecolor": "white",
            "showbackground": true,
            "ticks": "",
            "zerolinecolor": "white"
           }
          },
          "shapedefaults": {
           "line": {
            "color": "#2a3f5f"
           }
          },
          "ternary": {
           "aaxis": {
            "gridcolor": "white",
            "linecolor": "white",
            "ticks": ""
           },
           "baxis": {
            "gridcolor": "white",
            "linecolor": "white",
            "ticks": ""
           },
           "bgcolor": "#E5ECF6",
           "caxis": {
            "gridcolor": "white",
            "linecolor": "white",
            "ticks": ""
           }
          },
          "title": {
           "x": 0.05
          },
          "xaxis": {
           "automargin": true,
           "gridcolor": "white",
           "linecolor": "white",
           "ticks": "",
           "title": {
            "standoff": 15
           },
           "zerolinecolor": "white",
           "zerolinewidth": 2
          },
          "yaxis": {
           "automargin": true,
           "gridcolor": "white",
           "linecolor": "white",
           "ticks": "",
           "title": {
            "standoff": 15
           },
           "zerolinecolor": "white",
           "zerolinewidth": 2
          }
         }
        },
        "title": {
         "text": "Covid-19 Cases of death around the Globe 2022"
        }
       }
      },
      "text/html": [
       "<div>                            <div id=\"810fd3dd-03ee-4708-8e4f-371c910e7aa4\" class=\"plotly-graph-div\" style=\"height:525px; width:100%;\"></div>            <script type=\"text/javascript\">                require([\"plotly\"], function(Plotly) {                    window.PLOTLYENV=window.PLOTLYENV || {};                                    if (document.getElementById(\"810fd3dd-03ee-4708-8e4f-371c910e7aa4\")) {                    Plotly.newPlot(                        \"810fd3dd-03ee-4708-8e4f-371c910e7aa4\",                        [{\"geo\":\"geo\",\"hovertemplate\":\"Total Deaths=%{marker.color}<br>Country=%{location}<extra></extra>\",\"legendgroup\":\"\",\"locationmode\":\"country names\",\"locations\":[\"USA\",\"India\",\"France\",\"Germany\",\"Brazil\",\"S. Korea\",\"Japan\",\"Italy\",\"UK\",\"Russia\",\"Spain\",\"Vietnam\",\"Australia\",\"Argentina\",\"Netherlands\",\"Iran\",\"Mexico\",\"Indonesia\",\"Poland\",\"Colombia\",\"Austria\",\"Portugal\",\"Greece\",\"Malaysia\",\"Chile\",\"Israel\",\"Thailand\",\"Belgium\",\"Czechia\",\"Canada\",\"Peru\",\"Switzerland\",\"Philippines\",\"South Africa\",\"Romania\",\"Denmark\",\"Sweden\",\"Iraq\",\"Serbia\",\"Hong Kong\",\"Singapore\",\"Hungary\",\"Bangladesh\",\"Slovakia\",\"Jordan\",\"Ireland\",\"Pakistan\",\"Norway\",\"Finland\",\"Kazakhstan\",\"Slovenia\",\"Bulgaria\",\"Lithuania\",\"Morocco\",\"Croatia\",\"Lebanon\",\"Guatemala\",\"Costa Rica\",\"Bolivia\",\"Cuba\",\"Ecuador\",\"Panama\",\"Mongolia\",\"Uruguay\",\"Latvia\",\"Saudi Arabia\",\"Bahrain\",\"Dominican Republic\",\"Cyprus\",\"Palestine\",\"Estonia\",\"Moldova\",\"Venezuela\",\"Egypt\",\"Ethiopia\",\"Qatar\",\"R\\u00e9union\",\"Oman\",\"China\",\"Kenya\",\"Botswana\",\"Montenegro\",\"Nigeria\",\"Brunei\",\"Zimbabwe\",\"Uzbekistan\",\"Mozambique\",\"Afghanistan\",\"Kyrgyzstan\",\"El Salvador\",\"Trinidad and Tobago\",\"Maldives\",\"Ghana\",\"Uganda\",\"Cameroon\",\"Malta\",\"French Guiana\",\"Malawi\",\"New Caledonia\",\"Belize\",\"Cabo Verde\",\"Andorra\",\"Papua New Guinea\",\"Cura\\u00e7ao\",\"Aruba\",\"Guinea\",\"Bahamas\",\"Cayman Islands\",\"Benin\",\"San Marino\",\"Liechtenstein\",\"Grenada\",\"South Sudan\",\"Equatorial Guinea\",\"Samoa\",\"Monaco\",\"CAR\",\"Saint Martin\",\"Greenland\",\"Yemen\",\"Niger\",\"Antigua and Barbuda\",\"Guinea-Bissau\",\"Liberia\",\"Turks and Caicos\",\"Palau\",\"Anguilla\",\"Saint Pierre Miquelon\"],\"marker\":{\"color\":[1113808.0,530680.0,160747.0,160246.0,692210.0,31549.0,54026.0,183138.0,198271.0,393166.0,116658.0,43181.0,16734.0,130080.0,22952.0,144672.0,330805.0,160466.0,118448.0,141996.0,21345.0,25643.0,34614.0,36814.0,62913.0,11973.0,33505.0,33211.0,42044.0,48645.0,217941.0,14364.0,65142.0,102568.0,67341.0,7680.0,21332.0,25373.0,17477.0,11293.0,1710.0,48439.0,29438.0,20792.0,14122.0,8270.0,30635.0,4571.0,7783.0,13694.0,6976.0,38082.0,9459.0,16294.0,17483.0,10743.0,19986.0,9051.0,22271.0,8530.0,35940.0,8554.0,2179.0,7552.0,6139.0,9502.0,1539.0,4384.0,1250.0,5404.0,2837.0,11929.0,5830.0,24613.0,7572.0,685.0,907.0,4260.0,5241.0,5688.0,2794.0,2790.0,3155.0,225.0,5637.0,1637.0,2229.0,7845.0,2991.0,4230.0,4277.0,311.0,1461.0,3630.0,1965.0,811.0,412.0,2685.0,314.0,688.0,412.0,165.0,669.0,295.0,236.0,465.0,833.0,36.0,163.0,120.0,88.0,237.0,138.0,183.0,29.0,63.0,113.0,63.0,21.0,2159.0,312.0,146.0,176.0,294.0,36.0,9.0,12.0,2.0],\"coloraxis\":\"coloraxis\",\"size\":[1113808.0,530680.0,160747.0,160246.0,692210.0,31549.0,54026.0,183138.0,198271.0,393166.0,116658.0,43181.0,16734.0,130080.0,22952.0,144672.0,330805.0,160466.0,118448.0,141996.0,21345.0,25643.0,34614.0,36814.0,62913.0,11973.0,33505.0,33211.0,42044.0,48645.0,217941.0,14364.0,65142.0,102568.0,67341.0,7680.0,21332.0,25373.0,17477.0,11293.0,1710.0,48439.0,29438.0,20792.0,14122.0,8270.0,30635.0,4571.0,7783.0,13694.0,6976.0,38082.0,9459.0,16294.0,17483.0,10743.0,19986.0,9051.0,22271.0,8530.0,35940.0,8554.0,2179.0,7552.0,6139.0,9502.0,1539.0,4384.0,1250.0,5404.0,2837.0,11929.0,5830.0,24613.0,7572.0,685.0,907.0,4260.0,5241.0,5688.0,2794.0,2790.0,3155.0,225.0,5637.0,1637.0,2229.0,7845.0,2991.0,4230.0,4277.0,311.0,1461.0,3630.0,1965.0,811.0,412.0,2685.0,314.0,688.0,412.0,165.0,669.0,295.0,236.0,465.0,833.0,36.0,163.0,120.0,88.0,237.0,138.0,183.0,29.0,63.0,113.0,63.0,21.0,2159.0,312.0,146.0,176.0,294.0,36.0,9.0,12.0,2.0],\"sizemode\":\"area\",\"sizeref\":550.0286419753087,\"symbol\":\"circle\"},\"mode\":\"markers\",\"name\":\"\",\"showlegend\":false,\"type\":\"scattergeo\"}],                        {\"template\":{\"data\":{\"histogram2dcontour\":[{\"type\":\"histogram2dcontour\",\"colorbar\":{\"outlinewidth\":0,\"ticks\":\"\"},\"colorscale\":[[0.0,\"#0d0887\"],[0.1111111111111111,\"#46039f\"],[0.2222222222222222,\"#7201a8\"],[0.3333333333333333,\"#9c179e\"],[0.4444444444444444,\"#bd3786\"],[0.5555555555555556,\"#d8576b\"],[0.6666666666666666,\"#ed7953\"],[0.7777777777777778,\"#fb9f3a\"],[0.8888888888888888,\"#fdca26\"],[1.0,\"#f0f921\"]]}],\"choropleth\":[{\"type\":\"choropleth\",\"colorbar\":{\"outlinewidth\":0,\"ticks\":\"\"}}],\"histogram2d\":[{\"type\":\"histogram2d\",\"colorbar\":{\"outlinewidth\":0,\"ticks\":\"\"},\"colorscale\":[[0.0,\"#0d0887\"],[0.1111111111111111,\"#46039f\"],[0.2222222222222222,\"#7201a8\"],[0.3333333333333333,\"#9c179e\"],[0.4444444444444444,\"#bd3786\"],[0.5555555555555556,\"#d8576b\"],[0.6666666666666666,\"#ed7953\"],[0.7777777777777778,\"#fb9f3a\"],[0.8888888888888888,\"#fdca26\"],[1.0,\"#f0f921\"]]}],\"heatmap\":[{\"type\":\"heatmap\",\"colorbar\":{\"outlinewidth\":0,\"ticks\":\"\"},\"colorscale\":[[0.0,\"#0d0887\"],[0.1111111111111111,\"#46039f\"],[0.2222222222222222,\"#7201a8\"],[0.3333333333333333,\"#9c179e\"],[0.4444444444444444,\"#bd3786\"],[0.5555555555555556,\"#d8576b\"],[0.6666666666666666,\"#ed7953\"],[0.7777777777777778,\"#fb9f3a\"],[0.8888888888888888,\"#fdca26\"],[1.0,\"#f0f921\"]]}],\"heatmapgl\":[{\"type\":\"heatmapgl\",\"colorbar\":{\"outlinewidth\":0,\"ticks\":\"\"},\"colorscale\":[[0.0,\"#0d0887\"],[0.1111111111111111,\"#46039f\"],[0.2222222222222222,\"#7201a8\"],[0.3333333333333333,\"#9c179e\"],[0.4444444444444444,\"#bd3786\"],[0.5555555555555556,\"#d8576b\"],[0.6666666666666666,\"#ed7953\"],[0.7777777777777778,\"#fb9f3a\"],[0.8888888888888888,\"#fdca26\"],[1.0,\"#f0f921\"]]}],\"contourcarpet\":[{\"type\":\"contourcarpet\",\"colorbar\":{\"outlinewidth\":0,\"ticks\":\"\"}}],\"contour\":[{\"type\":\"contour\",\"colorbar\":{\"outlinewidth\":0,\"ticks\":\"\"},\"colorscale\":[[0.0,\"#0d0887\"],[0.1111111111111111,\"#46039f\"],[0.2222222222222222,\"#7201a8\"],[0.3333333333333333,\"#9c179e\"],[0.4444444444444444,\"#bd3786\"],[0.5555555555555556,\"#d8576b\"],[0.6666666666666666,\"#ed7953\"],[0.7777777777777778,\"#fb9f3a\"],[0.8888888888888888,\"#fdca26\"],[1.0,\"#f0f921\"]]}],\"surface\":[{\"type\":\"surface\",\"colorbar\":{\"outlinewidth\":0,\"ticks\":\"\"},\"colorscale\":[[0.0,\"#0d0887\"],[0.1111111111111111,\"#46039f\"],[0.2222222222222222,\"#7201a8\"],[0.3333333333333333,\"#9c179e\"],[0.4444444444444444,\"#bd3786\"],[0.5555555555555556,\"#d8576b\"],[0.6666666666666666,\"#ed7953\"],[0.7777777777777778,\"#fb9f3a\"],[0.8888888888888888,\"#fdca26\"],[1.0,\"#f0f921\"]]}],\"mesh3d\":[{\"type\":\"mesh3d\",\"colorbar\":{\"outlinewidth\":0,\"ticks\":\"\"}}],\"scatter\":[{\"fillpattern\":{\"fillmode\":\"overlay\",\"size\":10,\"solidity\":0.2},\"type\":\"scatter\"}],\"parcoords\":[{\"type\":\"parcoords\",\"line\":{\"colorbar\":{\"outlinewidth\":0,\"ticks\":\"\"}}}],\"scatterpolargl\":[{\"type\":\"scatterpolargl\",\"marker\":{\"colorbar\":{\"outlinewidth\":0,\"ticks\":\"\"}}}],\"bar\":[{\"error_x\":{\"color\":\"#2a3f5f\"},\"error_y\":{\"color\":\"#2a3f5f\"},\"marker\":{\"line\":{\"color\":\"#E5ECF6\",\"width\":0.5},\"pattern\":{\"fillmode\":\"overlay\",\"size\":10,\"solidity\":0.2}},\"type\":\"bar\"}],\"scattergeo\":[{\"type\":\"scattergeo\",\"marker\":{\"colorbar\":{\"outlinewidth\":0,\"ticks\":\"\"}}}],\"scatterpolar\":[{\"type\":\"scatterpolar\",\"marker\":{\"colorbar\":{\"outlinewidth\":0,\"ticks\":\"\"}}}],\"histogram\":[{\"marker\":{\"pattern\":{\"fillmode\":\"overlay\",\"size\":10,\"solidity\":0.2}},\"type\":\"histogram\"}],\"scattergl\":[{\"type\":\"scattergl\",\"marker\":{\"colorbar\":{\"outlinewidth\":0,\"ticks\":\"\"}}}],\"scatter3d\":[{\"type\":\"scatter3d\",\"line\":{\"colorbar\":{\"outlinewidth\":0,\"ticks\":\"\"}},\"marker\":{\"colorbar\":{\"outlinewidth\":0,\"ticks\":\"\"}}}],\"scattermapbox\":[{\"type\":\"scattermapbox\",\"marker\":{\"colorbar\":{\"outlinewidth\":0,\"ticks\":\"\"}}}],\"scatterternary\":[{\"type\":\"scatterternary\",\"marker\":{\"colorbar\":{\"outlinewidth\":0,\"ticks\":\"\"}}}],\"scattercarpet\":[{\"type\":\"scattercarpet\",\"marker\":{\"colorbar\":{\"outlinewidth\":0,\"ticks\":\"\"}}}],\"carpet\":[{\"aaxis\":{\"endlinecolor\":\"#2a3f5f\",\"gridcolor\":\"white\",\"linecolor\":\"white\",\"minorgridcolor\":\"white\",\"startlinecolor\":\"#2a3f5f\"},\"baxis\":{\"endlinecolor\":\"#2a3f5f\",\"gridcolor\":\"white\",\"linecolor\":\"white\",\"minorgridcolor\":\"white\",\"startlinecolor\":\"#2a3f5f\"},\"type\":\"carpet\"}],\"table\":[{\"cells\":{\"fill\":{\"color\":\"#EBF0F8\"},\"line\":{\"color\":\"white\"}},\"header\":{\"fill\":{\"color\":\"#C8D4E3\"},\"line\":{\"color\":\"white\"}},\"type\":\"table\"}],\"barpolar\":[{\"marker\":{\"line\":{\"color\":\"#E5ECF6\",\"width\":0.5},\"pattern\":{\"fillmode\":\"overlay\",\"size\":10,\"solidity\":0.2}},\"type\":\"barpolar\"}],\"pie\":[{\"automargin\":true,\"type\":\"pie\"}]},\"layout\":{\"autotypenumbers\":\"strict\",\"colorway\":[\"#636efa\",\"#EF553B\",\"#00cc96\",\"#ab63fa\",\"#FFA15A\",\"#19d3f3\",\"#FF6692\",\"#B6E880\",\"#FF97FF\",\"#FECB52\"],\"font\":{\"color\":\"#2a3f5f\"},\"hovermode\":\"closest\",\"hoverlabel\":{\"align\":\"left\"},\"paper_bgcolor\":\"white\",\"plot_bgcolor\":\"#E5ECF6\",\"polar\":{\"bgcolor\":\"#E5ECF6\",\"angularaxis\":{\"gridcolor\":\"white\",\"linecolor\":\"white\",\"ticks\":\"\"},\"radialaxis\":{\"gridcolor\":\"white\",\"linecolor\":\"white\",\"ticks\":\"\"}},\"ternary\":{\"bgcolor\":\"#E5ECF6\",\"aaxis\":{\"gridcolor\":\"white\",\"linecolor\":\"white\",\"ticks\":\"\"},\"baxis\":{\"gridcolor\":\"white\",\"linecolor\":\"white\",\"ticks\":\"\"},\"caxis\":{\"gridcolor\":\"white\",\"linecolor\":\"white\",\"ticks\":\"\"}},\"coloraxis\":{\"colorbar\":{\"outlinewidth\":0,\"ticks\":\"\"}},\"colorscale\":{\"sequential\":[[0.0,\"#0d0887\"],[0.1111111111111111,\"#46039f\"],[0.2222222222222222,\"#7201a8\"],[0.3333333333333333,\"#9c179e\"],[0.4444444444444444,\"#bd3786\"],[0.5555555555555556,\"#d8576b\"],[0.6666666666666666,\"#ed7953\"],[0.7777777777777778,\"#fb9f3a\"],[0.8888888888888888,\"#fdca26\"],[1.0,\"#f0f921\"]],\"sequentialminus\":[[0.0,\"#0d0887\"],[0.1111111111111111,\"#46039f\"],[0.2222222222222222,\"#7201a8\"],[0.3333333333333333,\"#9c179e\"],[0.4444444444444444,\"#bd3786\"],[0.5555555555555556,\"#d8576b\"],[0.6666666666666666,\"#ed7953\"],[0.7777777777777778,\"#fb9f3a\"],[0.8888888888888888,\"#fdca26\"],[1.0,\"#f0f921\"]],\"diverging\":[[0,\"#8e0152\"],[0.1,\"#c51b7d\"],[0.2,\"#de77ae\"],[0.3,\"#f1b6da\"],[0.4,\"#fde0ef\"],[0.5,\"#f7f7f7\"],[0.6,\"#e6f5d0\"],[0.7,\"#b8e186\"],[0.8,\"#7fbc41\"],[0.9,\"#4d9221\"],[1,\"#276419\"]]},\"xaxis\":{\"gridcolor\":\"white\",\"linecolor\":\"white\",\"ticks\":\"\",\"title\":{\"standoff\":15},\"zerolinecolor\":\"white\",\"automargin\":true,\"zerolinewidth\":2},\"yaxis\":{\"gridcolor\":\"white\",\"linecolor\":\"white\",\"ticks\":\"\",\"title\":{\"standoff\":15},\"zerolinecolor\":\"white\",\"automargin\":true,\"zerolinewidth\":2},\"scene\":{\"xaxis\":{\"backgroundcolor\":\"#E5ECF6\",\"gridcolor\":\"white\",\"linecolor\":\"white\",\"showbackground\":true,\"ticks\":\"\",\"zerolinecolor\":\"white\",\"gridwidth\":2},\"yaxis\":{\"backgroundcolor\":\"#E5ECF6\",\"gridcolor\":\"white\",\"linecolor\":\"white\",\"showbackground\":true,\"ticks\":\"\",\"zerolinecolor\":\"white\",\"gridwidth\":2},\"zaxis\":{\"backgroundcolor\":\"#E5ECF6\",\"gridcolor\":\"white\",\"linecolor\":\"white\",\"showbackground\":true,\"ticks\":\"\",\"zerolinecolor\":\"white\",\"gridwidth\":2}},\"shapedefaults\":{\"line\":{\"color\":\"#2a3f5f\"}},\"annotationdefaults\":{\"arrowcolor\":\"#2a3f5f\",\"arrowhead\":0,\"arrowwidth\":1},\"geo\":{\"bgcolor\":\"white\",\"landcolor\":\"#E5ECF6\",\"subunitcolor\":\"white\",\"showland\":true,\"showlakes\":true,\"lakecolor\":\"white\"},\"title\":{\"x\":0.05},\"mapbox\":{\"style\":\"light\"}}},\"geo\":{\"domain\":{\"x\":[0.0,1.0],\"y\":[0.0,1.0]},\"center\":{},\"scope\":\"world\"},\"coloraxis\":{\"colorbar\":{\"title\":{\"text\":\"Total Deaths\"}},\"colorscale\":[[0.0,\"#30123b\"],[0.07142857142857142,\"#4145ab\"],[0.14285714285714285,\"#4675ed\"],[0.21428571428571427,\"#39a2fc\"],[0.2857142857142857,\"#1bcfd4\"],[0.35714285714285715,\"#24eca6\"],[0.42857142857142855,\"#61fc6c\"],[0.5,\"#a4fc3b\"],[0.5714285714285714,\"#d1e834\"],[0.6428571428571429,\"#f3c63a\"],[0.7142857142857143,\"#fe9b2d\"],[0.7857142857142857,\"#f36315\"],[0.8571428571428571,\"#d93806\"],[0.9285714285714286,\"#b11901\"],[1.0,\"#7a0402\"]]},\"legend\":{\"tracegroupgap\":0,\"itemsizing\":\"constant\"},\"title\":{\"text\":\"Covid-19 Cases of death around the Globe 2022\"}},                        {\"responsive\": true}                    ).then(function(){\n",
       "                            \n",
       "var gd = document.getElementById('810fd3dd-03ee-4708-8e4f-371c910e7aa4');\n",
       "var x = new MutationObserver(function (mutations, observer) {{\n",
       "        var display = window.getComputedStyle(gd).display;\n",
       "        if (!display || display === 'none') {{\n",
       "            console.log([gd, 'removed!']);\n",
       "            Plotly.purge(gd);\n",
       "            observer.disconnect();\n",
       "        }}\n",
       "}});\n",
       "\n",
       "// Listen for the removal of the full notebook cells\n",
       "var notebookContainer = gd.closest('#notebook-container');\n",
       "if (notebookContainer) {{\n",
       "    x.observe(notebookContainer, {childList: true});\n",
       "}}\n",
       "\n",
       "// Listen for the clearing of the current output cell\n",
       "var outputEl = gd.closest('.output');\n",
       "if (outputEl) {{\n",
       "    x.observe(outputEl, {childList: true});\n",
       "}}\n",
       "\n",
       "                        })                };                });            </script>        </div>"
      ]
     },
     "metadata": {},
     "output_type": "display_data"
    }
   ],
   "source": [
    "fig = px.scatter_geo(df, locations='Country',locationmode=\"country names\",\n",
    "             scope=\"world\",color=\"Total Deaths\",size=\"Total Deaths\",\n",
    "             size_max=45,title=\"Covid-19 Cases of death around the Globe 2022\",color_continuous_scale='turbo')\n",
    "fig.show()"
   ]
  },
  {
   "cell_type": "code",
   "execution_count": 69,
   "id": "1826c66b",
   "metadata": {},
   "outputs": [
    {
     "data": {
      "application/vnd.plotly.v1+json": {
       "config": {
        "plotlyServerURL": "https://plot.ly"
       },
       "data": [
        {
         "geo": "geo",
         "hovertemplate": "Total Deaths=%{marker.size}<br>Country=%{location}<br>Total Recovered=%{marker.color}<extra></extra>",
         "legendgroup": "",
         "locationmode": "country names",
         "locations": [
          "USA",
          "India",
          "France",
          "Germany",
          "Brazil",
          "S. Korea",
          "Japan",
          "Italy",
          "UK",
          "Russia",
          "Spain",
          "Vietnam",
          "Australia",
          "Argentina",
          "Netherlands",
          "Iran",
          "Mexico",
          "Indonesia",
          "Poland",
          "Colombia",
          "Austria",
          "Portugal",
          "Greece",
          "Malaysia",
          "Chile",
          "Israel",
          "Thailand",
          "Belgium",
          "Czechia",
          "Canada",
          "Peru",
          "Switzerland",
          "Philippines",
          "South Africa",
          "Romania",
          "Denmark",
          "Sweden",
          "Iraq",
          "Serbia",
          "Hong Kong",
          "Singapore",
          "Hungary",
          "Bangladesh",
          "Slovakia",
          "Jordan",
          "Ireland",
          "Pakistan",
          "Norway",
          "Finland",
          "Kazakhstan",
          "Slovenia",
          "Bulgaria",
          "Lithuania",
          "Morocco",
          "Croatia",
          "Lebanon",
          "Guatemala",
          "Costa Rica",
          "Bolivia",
          "Cuba",
          "Ecuador",
          "Panama",
          "Mongolia",
          "Uruguay",
          "Latvia",
          "Saudi Arabia",
          "Bahrain",
          "Dominican Republic",
          "Cyprus",
          "Palestine",
          "Estonia",
          "Moldova",
          "Venezuela",
          "Egypt",
          "Ethiopia",
          "Qatar",
          "Réunion",
          "Oman",
          "China",
          "Kenya",
          "Botswana",
          "Montenegro",
          "Nigeria",
          "Brunei",
          "Zimbabwe",
          "Uzbekistan",
          "Mozambique",
          "Afghanistan",
          "Kyrgyzstan",
          "El Salvador",
          "Trinidad and Tobago",
          "Maldives",
          "Ghana",
          "Uganda",
          "Cameroon",
          "Malta",
          "French Guiana",
          "Malawi",
          "New Caledonia",
          "Belize",
          "Cabo Verde",
          "Andorra",
          "Papua New Guinea",
          "Curaçao",
          "Aruba",
          "Guinea",
          "Bahamas",
          "Cayman Islands",
          "Benin",
          "San Marino",
          "Liechtenstein",
          "Grenada",
          "South Sudan",
          "Equatorial Guinea",
          "Samoa",
          "Monaco",
          "CAR",
          "Saint Martin",
          "Greenland",
          "Yemen",
          "Niger",
          "Antigua and Barbuda",
          "Guinea-Bissau",
          "Liberia",
          "Turks and Caicos",
          "Palau",
          "Anguilla",
          "Saint Pierre Miquelon"
         ],
         "marker": {
          "color": [
           98976943,
           44142242,
           37686052,
           36346100,
           34663955,
           27230036,
           20948674,
           24215242,
           23806071,
           21131700,
           13444388,
           10610481,
           10546102,
           9597167,
           8512324,
           7335808,
           6436684,
           6527952,
           5335940,
           6150571,
           5590936,
           5513331,
           5443822,
           4967175,
           4920410,
           4727120,
           4649509,
           4595731,
           4524599,
           4346320,
           4112595,
           4280954,
           3976427,
           3912506,
           3231397,
           3143282,
           2603265,
           2439079,
           2407118,
           1986926,
           2116839,
           2118911,
           1986947,
           1835911,
           1731007,
           1670555,
           1538689,
           1464989,
           1394322,
           1383020,
           1259932,
           1248448,
           1266714,
           1253979,
           1240066,
           1087587,
           1142046,
           860711,
           1086019,
           1103045,
           975192,
           1005646,
           991600,
           990837,
           950319,
           814200,
           695889,
           644785,
           612987,
           614962,
           524990,
           504142,
           542092,
           442182,
           476062,
           485452,
           418572,
           384669,
           343855,
           336409,
           323747,
           281375,
           259759,
           243601,
           253677,
           241486,
           228566,
           184896,
           196406,
           179410,
           181419,
           163687,
           169573,
           100431,
           118616,
           114712,
           11254,
           85065,
           77483,
           68755,
           62683,
           47188,
           43982,
           44720,
           42438,
           37265,
           36366,
           8553,
           27817,
           22490,
           21040,
           19358,
           18115,
           16880,
           1605,
           15720,
           14615,
           1399,
           2761,
           9124,
           8890,
           8954,
           8642,
           7741,
           6395,
           5765,
           3879,
           2449
          ],
          "coloraxis": "coloraxis",
          "size": [
           1113808,
           530680,
           160747,
           160246,
           692210,
           31549,
           54026,
           183138,
           198271,
           393166,
           116658,
           43181,
           16734,
           130080,
           22952,
           144672,
           330805,
           160466,
           118448,
           141996,
           21345,
           25643,
           34614,
           36814,
           62913,
           11973,
           33505,
           33211,
           42044,
           48645,
           217941,
           14364,
           65142,
           102568,
           67341,
           7680,
           21332,
           25373,
           17477,
           11293,
           1710,
           48439,
           29438,
           20792,
           14122,
           8270,
           30635,
           4571,
           7783,
           13694,
           6976,
           38082,
           9459,
           16294,
           17483,
           10743,
           19986,
           9051,
           22271,
           8530,
           35940,
           8554,
           2179,
           7552,
           6139,
           9502,
           1539,
           4384,
           1250,
           5404,
           2837,
           11929,
           5830,
           24613,
           7572,
           685,
           907,
           4260,
           5241,
           5688,
           2794,
           2790,
           3155,
           225,
           5637,
           1637,
           2229,
           7845,
           2991,
           4230,
           4277,
           311,
           1461,
           3630,
           1965,
           811,
           412,
           2685,
           314,
           688,
           412,
           165,
           669,
           295,
           236,
           465,
           833,
           36,
           163,
           120,
           88,
           237,
           138,
           183,
           29,
           63,
           113,
           63,
           21,
           2159,
           312,
           146,
           176,
           294,
           36,
           9,
           12,
           2
          ],
          "sizemode": "area",
          "sizeref": 550.0286419753087,
          "symbol": "circle"
         },
         "mode": "markers",
         "name": "",
         "showlegend": false,
         "type": "scattergeo"
        }
       ],
       "layout": {
        "coloraxis": {
         "colorbar": {
          "title": {
           "text": "Total Recovered"
          }
         },
         "colorscale": [
          [
           0,
           "rgb(253, 253, 204)"
          ],
          [
           0.09090909090909091,
           "rgb(206, 236, 179)"
          ],
          [
           0.18181818181818182,
           "rgb(156, 219, 165)"
          ],
          [
           0.2727272727272727,
           "rgb(111, 201, 163)"
          ],
          [
           0.36363636363636365,
           "rgb(86, 177, 163)"
          ],
          [
           0.45454545454545453,
           "rgb(76, 153, 160)"
          ],
          [
           0.5454545454545454,
           "rgb(68, 130, 155)"
          ],
          [
           0.6363636363636364,
           "rgb(62, 108, 150)"
          ],
          [
           0.7272727272727273,
           "rgb(62, 82, 143)"
          ],
          [
           0.8181818181818182,
           "rgb(64, 60, 115)"
          ],
          [
           0.9090909090909091,
           "rgb(54, 43, 77)"
          ],
          [
           1,
           "rgb(39, 26, 44)"
          ]
         ]
        },
        "geo": {
         "center": {},
         "domain": {
          "x": [
           0,
           1
          ],
          "y": [
           0,
           1
          ]
         },
         "scope": "world"
        },
        "legend": {
         "itemsizing": "constant",
         "tracegroupgap": 0
        },
        "template": {
         "data": {
          "bar": [
           {
            "error_x": {
             "color": "#2a3f5f"
            },
            "error_y": {
             "color": "#2a3f5f"
            },
            "marker": {
             "line": {
              "color": "#E5ECF6",
              "width": 0.5
             },
             "pattern": {
              "fillmode": "overlay",
              "size": 10,
              "solidity": 0.2
             }
            },
            "type": "bar"
           }
          ],
          "barpolar": [
           {
            "marker": {
             "line": {
              "color": "#E5ECF6",
              "width": 0.5
             },
             "pattern": {
              "fillmode": "overlay",
              "size": 10,
              "solidity": 0.2
             }
            },
            "type": "barpolar"
           }
          ],
          "carpet": [
           {
            "aaxis": {
             "endlinecolor": "#2a3f5f",
             "gridcolor": "white",
             "linecolor": "white",
             "minorgridcolor": "white",
             "startlinecolor": "#2a3f5f"
            },
            "baxis": {
             "endlinecolor": "#2a3f5f",
             "gridcolor": "white",
             "linecolor": "white",
             "minorgridcolor": "white",
             "startlinecolor": "#2a3f5f"
            },
            "type": "carpet"
           }
          ],
          "choropleth": [
           {
            "colorbar": {
             "outlinewidth": 0,
             "ticks": ""
            },
            "type": "choropleth"
           }
          ],
          "contour": [
           {
            "colorbar": {
             "outlinewidth": 0,
             "ticks": ""
            },
            "colorscale": [
             [
              0,
              "#0d0887"
             ],
             [
              0.1111111111111111,
              "#46039f"
             ],
             [
              0.2222222222222222,
              "#7201a8"
             ],
             [
              0.3333333333333333,
              "#9c179e"
             ],
             [
              0.4444444444444444,
              "#bd3786"
             ],
             [
              0.5555555555555556,
              "#d8576b"
             ],
             [
              0.6666666666666666,
              "#ed7953"
             ],
             [
              0.7777777777777778,
              "#fb9f3a"
             ],
             [
              0.8888888888888888,
              "#fdca26"
             ],
             [
              1,
              "#f0f921"
             ]
            ],
            "type": "contour"
           }
          ],
          "contourcarpet": [
           {
            "colorbar": {
             "outlinewidth": 0,
             "ticks": ""
            },
            "type": "contourcarpet"
           }
          ],
          "heatmap": [
           {
            "colorbar": {
             "outlinewidth": 0,
             "ticks": ""
            },
            "colorscale": [
             [
              0,
              "#0d0887"
             ],
             [
              0.1111111111111111,
              "#46039f"
             ],
             [
              0.2222222222222222,
              "#7201a8"
             ],
             [
              0.3333333333333333,
              "#9c179e"
             ],
             [
              0.4444444444444444,
              "#bd3786"
             ],
             [
              0.5555555555555556,
              "#d8576b"
             ],
             [
              0.6666666666666666,
              "#ed7953"
             ],
             [
              0.7777777777777778,
              "#fb9f3a"
             ],
             [
              0.8888888888888888,
              "#fdca26"
             ],
             [
              1,
              "#f0f921"
             ]
            ],
            "type": "heatmap"
           }
          ],
          "heatmapgl": [
           {
            "colorbar": {
             "outlinewidth": 0,
             "ticks": ""
            },
            "colorscale": [
             [
              0,
              "#0d0887"
             ],
             [
              0.1111111111111111,
              "#46039f"
             ],
             [
              0.2222222222222222,
              "#7201a8"
             ],
             [
              0.3333333333333333,
              "#9c179e"
             ],
             [
              0.4444444444444444,
              "#bd3786"
             ],
             [
              0.5555555555555556,
              "#d8576b"
             ],
             [
              0.6666666666666666,
              "#ed7953"
             ],
             [
              0.7777777777777778,
              "#fb9f3a"
             ],
             [
              0.8888888888888888,
              "#fdca26"
             ],
             [
              1,
              "#f0f921"
             ]
            ],
            "type": "heatmapgl"
           }
          ],
          "histogram": [
           {
            "marker": {
             "pattern": {
              "fillmode": "overlay",
              "size": 10,
              "solidity": 0.2
             }
            },
            "type": "histogram"
           }
          ],
          "histogram2d": [
           {
            "colorbar": {
             "outlinewidth": 0,
             "ticks": ""
            },
            "colorscale": [
             [
              0,
              "#0d0887"
             ],
             [
              0.1111111111111111,
              "#46039f"
             ],
             [
              0.2222222222222222,
              "#7201a8"
             ],
             [
              0.3333333333333333,
              "#9c179e"
             ],
             [
              0.4444444444444444,
              "#bd3786"
             ],
             [
              0.5555555555555556,
              "#d8576b"
             ],
             [
              0.6666666666666666,
              "#ed7953"
             ],
             [
              0.7777777777777778,
              "#fb9f3a"
             ],
             [
              0.8888888888888888,
              "#fdca26"
             ],
             [
              1,
              "#f0f921"
             ]
            ],
            "type": "histogram2d"
           }
          ],
          "histogram2dcontour": [
           {
            "colorbar": {
             "outlinewidth": 0,
             "ticks": ""
            },
            "colorscale": [
             [
              0,
              "#0d0887"
             ],
             [
              0.1111111111111111,
              "#46039f"
             ],
             [
              0.2222222222222222,
              "#7201a8"
             ],
             [
              0.3333333333333333,
              "#9c179e"
             ],
             [
              0.4444444444444444,
              "#bd3786"
             ],
             [
              0.5555555555555556,
              "#d8576b"
             ],
             [
              0.6666666666666666,
              "#ed7953"
             ],
             [
              0.7777777777777778,
              "#fb9f3a"
             ],
             [
              0.8888888888888888,
              "#fdca26"
             ],
             [
              1,
              "#f0f921"
             ]
            ],
            "type": "histogram2dcontour"
           }
          ],
          "mesh3d": [
           {
            "colorbar": {
             "outlinewidth": 0,
             "ticks": ""
            },
            "type": "mesh3d"
           }
          ],
          "parcoords": [
           {
            "line": {
             "colorbar": {
              "outlinewidth": 0,
              "ticks": ""
             }
            },
            "type": "parcoords"
           }
          ],
          "pie": [
           {
            "automargin": true,
            "type": "pie"
           }
          ],
          "scatter": [
           {
            "fillpattern": {
             "fillmode": "overlay",
             "size": 10,
             "solidity": 0.2
            },
            "type": "scatter"
           }
          ],
          "scatter3d": [
           {
            "line": {
             "colorbar": {
              "outlinewidth": 0,
              "ticks": ""
             }
            },
            "marker": {
             "colorbar": {
              "outlinewidth": 0,
              "ticks": ""
             }
            },
            "type": "scatter3d"
           }
          ],
          "scattercarpet": [
           {
            "marker": {
             "colorbar": {
              "outlinewidth": 0,
              "ticks": ""
             }
            },
            "type": "scattercarpet"
           }
          ],
          "scattergeo": [
           {
            "marker": {
             "colorbar": {
              "outlinewidth": 0,
              "ticks": ""
             }
            },
            "type": "scattergeo"
           }
          ],
          "scattergl": [
           {
            "marker": {
             "colorbar": {
              "outlinewidth": 0,
              "ticks": ""
             }
            },
            "type": "scattergl"
           }
          ],
          "scattermapbox": [
           {
            "marker": {
             "colorbar": {
              "outlinewidth": 0,
              "ticks": ""
             }
            },
            "type": "scattermapbox"
           }
          ],
          "scatterpolar": [
           {
            "marker": {
             "colorbar": {
              "outlinewidth": 0,
              "ticks": ""
             }
            },
            "type": "scatterpolar"
           }
          ],
          "scatterpolargl": [
           {
            "marker": {
             "colorbar": {
              "outlinewidth": 0,
              "ticks": ""
             }
            },
            "type": "scatterpolargl"
           }
          ],
          "scatterternary": [
           {
            "marker": {
             "colorbar": {
              "outlinewidth": 0,
              "ticks": ""
             }
            },
            "type": "scatterternary"
           }
          ],
          "surface": [
           {
            "colorbar": {
             "outlinewidth": 0,
             "ticks": ""
            },
            "colorscale": [
             [
              0,
              "#0d0887"
             ],
             [
              0.1111111111111111,
              "#46039f"
             ],
             [
              0.2222222222222222,
              "#7201a8"
             ],
             [
              0.3333333333333333,
              "#9c179e"
             ],
             [
              0.4444444444444444,
              "#bd3786"
             ],
             [
              0.5555555555555556,
              "#d8576b"
             ],
             [
              0.6666666666666666,
              "#ed7953"
             ],
             [
              0.7777777777777778,
              "#fb9f3a"
             ],
             [
              0.8888888888888888,
              "#fdca26"
             ],
             [
              1,
              "#f0f921"
             ]
            ],
            "type": "surface"
           }
          ],
          "table": [
           {
            "cells": {
             "fill": {
              "color": "#EBF0F8"
             },
             "line": {
              "color": "white"
             }
            },
            "header": {
             "fill": {
              "color": "#C8D4E3"
             },
             "line": {
              "color": "white"
             }
            },
            "type": "table"
           }
          ]
         },
         "layout": {
          "annotationdefaults": {
           "arrowcolor": "#2a3f5f",
           "arrowhead": 0,
           "arrowwidth": 1
          },
          "autotypenumbers": "strict",
          "coloraxis": {
           "colorbar": {
            "outlinewidth": 0,
            "ticks": ""
           }
          },
          "colorscale": {
           "diverging": [
            [
             0,
             "#8e0152"
            ],
            [
             0.1,
             "#c51b7d"
            ],
            [
             0.2,
             "#de77ae"
            ],
            [
             0.3,
             "#f1b6da"
            ],
            [
             0.4,
             "#fde0ef"
            ],
            [
             0.5,
             "#f7f7f7"
            ],
            [
             0.6,
             "#e6f5d0"
            ],
            [
             0.7,
             "#b8e186"
            ],
            [
             0.8,
             "#7fbc41"
            ],
            [
             0.9,
             "#4d9221"
            ],
            [
             1,
             "#276419"
            ]
           ],
           "sequential": [
            [
             0,
             "#0d0887"
            ],
            [
             0.1111111111111111,
             "#46039f"
            ],
            [
             0.2222222222222222,
             "#7201a8"
            ],
            [
             0.3333333333333333,
             "#9c179e"
            ],
            [
             0.4444444444444444,
             "#bd3786"
            ],
            [
             0.5555555555555556,
             "#d8576b"
            ],
            [
             0.6666666666666666,
             "#ed7953"
            ],
            [
             0.7777777777777778,
             "#fb9f3a"
            ],
            [
             0.8888888888888888,
             "#fdca26"
            ],
            [
             1,
             "#f0f921"
            ]
           ],
           "sequentialminus": [
            [
             0,
             "#0d0887"
            ],
            [
             0.1111111111111111,
             "#46039f"
            ],
            [
             0.2222222222222222,
             "#7201a8"
            ],
            [
             0.3333333333333333,
             "#9c179e"
            ],
            [
             0.4444444444444444,
             "#bd3786"
            ],
            [
             0.5555555555555556,
             "#d8576b"
            ],
            [
             0.6666666666666666,
             "#ed7953"
            ],
            [
             0.7777777777777778,
             "#fb9f3a"
            ],
            [
             0.8888888888888888,
             "#fdca26"
            ],
            [
             1,
             "#f0f921"
            ]
           ]
          },
          "colorway": [
           "#636efa",
           "#EF553B",
           "#00cc96",
           "#ab63fa",
           "#FFA15A",
           "#19d3f3",
           "#FF6692",
           "#B6E880",
           "#FF97FF",
           "#FECB52"
          ],
          "font": {
           "color": "#2a3f5f"
          },
          "geo": {
           "bgcolor": "white",
           "lakecolor": "white",
           "landcolor": "#E5ECF6",
           "showlakes": true,
           "showland": true,
           "subunitcolor": "white"
          },
          "hoverlabel": {
           "align": "left"
          },
          "hovermode": "closest",
          "mapbox": {
           "style": "light"
          },
          "paper_bgcolor": "white",
          "plot_bgcolor": "#E5ECF6",
          "polar": {
           "angularaxis": {
            "gridcolor": "white",
            "linecolor": "white",
            "ticks": ""
           },
           "bgcolor": "#E5ECF6",
           "radialaxis": {
            "gridcolor": "white",
            "linecolor": "white",
            "ticks": ""
           }
          },
          "scene": {
           "xaxis": {
            "backgroundcolor": "#E5ECF6",
            "gridcolor": "white",
            "gridwidth": 2,
            "linecolor": "white",
            "showbackground": true,
            "ticks": "",
            "zerolinecolor": "white"
           },
           "yaxis": {
            "backgroundcolor": "#E5ECF6",
            "gridcolor": "white",
            "gridwidth": 2,
            "linecolor": "white",
            "showbackground": true,
            "ticks": "",
            "zerolinecolor": "white"
           },
           "zaxis": {
            "backgroundcolor": "#E5ECF6",
            "gridcolor": "white",
            "gridwidth": 2,
            "linecolor": "white",
            "showbackground": true,
            "ticks": "",
            "zerolinecolor": "white"
           }
          },
          "shapedefaults": {
           "line": {
            "color": "#2a3f5f"
           }
          },
          "ternary": {
           "aaxis": {
            "gridcolor": "white",
            "linecolor": "white",
            "ticks": ""
           },
           "baxis": {
            "gridcolor": "white",
            "linecolor": "white",
            "ticks": ""
           },
           "bgcolor": "#E5ECF6",
           "caxis": {
            "gridcolor": "white",
            "linecolor": "white",
            "ticks": ""
           }
          },
          "title": {
           "x": 0.05
          },
          "xaxis": {
           "automargin": true,
           "gridcolor": "white",
           "linecolor": "white",
           "ticks": "",
           "title": {
            "standoff": 15
           },
           "zerolinecolor": "white",
           "zerolinewidth": 2
          },
          "yaxis": {
           "automargin": true,
           "gridcolor": "white",
           "linecolor": "white",
           "ticks": "",
           "title": {
            "standoff": 15
           },
           "zerolinecolor": "white",
           "zerolinewidth": 2
          }
         }
        },
        "title": {
         "text": "Covid-19 Cases of recovery around the Globe 2022"
        }
       }
      },
      "text/html": [
       "<div>                            <div id=\"010799ba-03a5-4bd1-a7f0-3a6cc6136c1b\" class=\"plotly-graph-div\" style=\"height:525px; width:100%;\"></div>            <script type=\"text/javascript\">                require([\"plotly\"], function(Plotly) {                    window.PLOTLYENV=window.PLOTLYENV || {};                                    if (document.getElementById(\"010799ba-03a5-4bd1-a7f0-3a6cc6136c1b\")) {                    Plotly.newPlot(                        \"010799ba-03a5-4bd1-a7f0-3a6cc6136c1b\",                        [{\"geo\":\"geo\",\"hovertemplate\":\"Total Deaths=%{marker.size}<br>Country=%{location}<br>Total Recovered=%{marker.color}<extra></extra>\",\"legendgroup\":\"\",\"locationmode\":\"country names\",\"locations\":[\"USA\",\"India\",\"France\",\"Germany\",\"Brazil\",\"S. Korea\",\"Japan\",\"Italy\",\"UK\",\"Russia\",\"Spain\",\"Vietnam\",\"Australia\",\"Argentina\",\"Netherlands\",\"Iran\",\"Mexico\",\"Indonesia\",\"Poland\",\"Colombia\",\"Austria\",\"Portugal\",\"Greece\",\"Malaysia\",\"Chile\",\"Israel\",\"Thailand\",\"Belgium\",\"Czechia\",\"Canada\",\"Peru\",\"Switzerland\",\"Philippines\",\"South Africa\",\"Romania\",\"Denmark\",\"Sweden\",\"Iraq\",\"Serbia\",\"Hong Kong\",\"Singapore\",\"Hungary\",\"Bangladesh\",\"Slovakia\",\"Jordan\",\"Ireland\",\"Pakistan\",\"Norway\",\"Finland\",\"Kazakhstan\",\"Slovenia\",\"Bulgaria\",\"Lithuania\",\"Morocco\",\"Croatia\",\"Lebanon\",\"Guatemala\",\"Costa Rica\",\"Bolivia\",\"Cuba\",\"Ecuador\",\"Panama\",\"Mongolia\",\"Uruguay\",\"Latvia\",\"Saudi Arabia\",\"Bahrain\",\"Dominican Republic\",\"Cyprus\",\"Palestine\",\"Estonia\",\"Moldova\",\"Venezuela\",\"Egypt\",\"Ethiopia\",\"Qatar\",\"R\\u00e9union\",\"Oman\",\"China\",\"Kenya\",\"Botswana\",\"Montenegro\",\"Nigeria\",\"Brunei\",\"Zimbabwe\",\"Uzbekistan\",\"Mozambique\",\"Afghanistan\",\"Kyrgyzstan\",\"El Salvador\",\"Trinidad and Tobago\",\"Maldives\",\"Ghana\",\"Uganda\",\"Cameroon\",\"Malta\",\"French Guiana\",\"Malawi\",\"New Caledonia\",\"Belize\",\"Cabo Verde\",\"Andorra\",\"Papua New Guinea\",\"Cura\\u00e7ao\",\"Aruba\",\"Guinea\",\"Bahamas\",\"Cayman Islands\",\"Benin\",\"San Marino\",\"Liechtenstein\",\"Grenada\",\"South Sudan\",\"Equatorial Guinea\",\"Samoa\",\"Monaco\",\"CAR\",\"Saint Martin\",\"Greenland\",\"Yemen\",\"Niger\",\"Antigua and Barbuda\",\"Guinea-Bissau\",\"Liberia\",\"Turks and Caicos\",\"Palau\",\"Anguilla\",\"Saint Pierre Miquelon\"],\"marker\":{\"color\":[98976943.0,44142242.0,37686052.0,36346100.0,34663955.0,27230036.0,20948674.0,24215242.0,23806071.0,21131700.0,13444388.0,10610481.0,10546102.0,9597167.0,8512324.0,7335808.0,6436684.0,6527952.0,5335940.0,6150571.0,5590936.0,5513331.0,5443822.0,4967175.0,4920410.0,4727120.0,4649509.0,4595731.0,4524599.0,4346320.0,4112595.0,4280954.0,3976427.0,3912506.0,3231397.0,3143282.0,2603265.0,2439079.0,2407118.0,1986926.0,2116839.0,2118911.0,1986947.0,1835911.0,1731007.0,1670555.0,1538689.0,1464989.0,1394322.0,1383020.0,1259932.0,1248448.0,1266714.0,1253979.0,1240066.0,1087587.0,1142046.0,860711.0,1086019.0,1103045.0,975192.0,1005646.0,991600.0,990837.0,950319.0,814200.0,695889.0,644785.0,612987.0,614962.0,524990.0,504142.0,542092.0,442182.0,476062.0,485452.0,418572.0,384669.0,343855.0,336409.0,323747.0,281375.0,259759.0,243601.0,253677.0,241486.0,228566.0,184896.0,196406.0,179410.0,181419.0,163687.0,169573.0,100431.0,118616.0,114712.0,11254.0,85065.0,77483.0,68755.0,62683.0,47188.0,43982.0,44720.0,42438.0,37265.0,36366.0,8553.0,27817.0,22490.0,21040.0,19358.0,18115.0,16880.0,1605.0,15720.0,14615.0,1399.0,2761.0,9124.0,8890.0,8954.0,8642.0,7741.0,6395.0,5765.0,3879.0,2449.0],\"coloraxis\":\"coloraxis\",\"size\":[1113808.0,530680.0,160747.0,160246.0,692210.0,31549.0,54026.0,183138.0,198271.0,393166.0,116658.0,43181.0,16734.0,130080.0,22952.0,144672.0,330805.0,160466.0,118448.0,141996.0,21345.0,25643.0,34614.0,36814.0,62913.0,11973.0,33505.0,33211.0,42044.0,48645.0,217941.0,14364.0,65142.0,102568.0,67341.0,7680.0,21332.0,25373.0,17477.0,11293.0,1710.0,48439.0,29438.0,20792.0,14122.0,8270.0,30635.0,4571.0,7783.0,13694.0,6976.0,38082.0,9459.0,16294.0,17483.0,10743.0,19986.0,9051.0,22271.0,8530.0,35940.0,8554.0,2179.0,7552.0,6139.0,9502.0,1539.0,4384.0,1250.0,5404.0,2837.0,11929.0,5830.0,24613.0,7572.0,685.0,907.0,4260.0,5241.0,5688.0,2794.0,2790.0,3155.0,225.0,5637.0,1637.0,2229.0,7845.0,2991.0,4230.0,4277.0,311.0,1461.0,3630.0,1965.0,811.0,412.0,2685.0,314.0,688.0,412.0,165.0,669.0,295.0,236.0,465.0,833.0,36.0,163.0,120.0,88.0,237.0,138.0,183.0,29.0,63.0,113.0,63.0,21.0,2159.0,312.0,146.0,176.0,294.0,36.0,9.0,12.0,2.0],\"sizemode\":\"area\",\"sizeref\":550.0286419753087,\"symbol\":\"circle\"},\"mode\":\"markers\",\"name\":\"\",\"showlegend\":false,\"type\":\"scattergeo\"}],                        {\"template\":{\"data\":{\"histogram2dcontour\":[{\"type\":\"histogram2dcontour\",\"colorbar\":{\"outlinewidth\":0,\"ticks\":\"\"},\"colorscale\":[[0.0,\"#0d0887\"],[0.1111111111111111,\"#46039f\"],[0.2222222222222222,\"#7201a8\"],[0.3333333333333333,\"#9c179e\"],[0.4444444444444444,\"#bd3786\"],[0.5555555555555556,\"#d8576b\"],[0.6666666666666666,\"#ed7953\"],[0.7777777777777778,\"#fb9f3a\"],[0.8888888888888888,\"#fdca26\"],[1.0,\"#f0f921\"]]}],\"choropleth\":[{\"type\":\"choropleth\",\"colorbar\":{\"outlinewidth\":0,\"ticks\":\"\"}}],\"histogram2d\":[{\"type\":\"histogram2d\",\"colorbar\":{\"outlinewidth\":0,\"ticks\":\"\"},\"colorscale\":[[0.0,\"#0d0887\"],[0.1111111111111111,\"#46039f\"],[0.2222222222222222,\"#7201a8\"],[0.3333333333333333,\"#9c179e\"],[0.4444444444444444,\"#bd3786\"],[0.5555555555555556,\"#d8576b\"],[0.6666666666666666,\"#ed7953\"],[0.7777777777777778,\"#fb9f3a\"],[0.8888888888888888,\"#fdca26\"],[1.0,\"#f0f921\"]]}],\"heatmap\":[{\"type\":\"heatmap\",\"colorbar\":{\"outlinewidth\":0,\"ticks\":\"\"},\"colorscale\":[[0.0,\"#0d0887\"],[0.1111111111111111,\"#46039f\"],[0.2222222222222222,\"#7201a8\"],[0.3333333333333333,\"#9c179e\"],[0.4444444444444444,\"#bd3786\"],[0.5555555555555556,\"#d8576b\"],[0.6666666666666666,\"#ed7953\"],[0.7777777777777778,\"#fb9f3a\"],[0.8888888888888888,\"#fdca26\"],[1.0,\"#f0f921\"]]}],\"heatmapgl\":[{\"type\":\"heatmapgl\",\"colorbar\":{\"outlinewidth\":0,\"ticks\":\"\"},\"colorscale\":[[0.0,\"#0d0887\"],[0.1111111111111111,\"#46039f\"],[0.2222222222222222,\"#7201a8\"],[0.3333333333333333,\"#9c179e\"],[0.4444444444444444,\"#bd3786\"],[0.5555555555555556,\"#d8576b\"],[0.6666666666666666,\"#ed7953\"],[0.7777777777777778,\"#fb9f3a\"],[0.8888888888888888,\"#fdca26\"],[1.0,\"#f0f921\"]]}],\"contourcarpet\":[{\"type\":\"contourcarpet\",\"colorbar\":{\"outlinewidth\":0,\"ticks\":\"\"}}],\"contour\":[{\"type\":\"contour\",\"colorbar\":{\"outlinewidth\":0,\"ticks\":\"\"},\"colorscale\":[[0.0,\"#0d0887\"],[0.1111111111111111,\"#46039f\"],[0.2222222222222222,\"#7201a8\"],[0.3333333333333333,\"#9c179e\"],[0.4444444444444444,\"#bd3786\"],[0.5555555555555556,\"#d8576b\"],[0.6666666666666666,\"#ed7953\"],[0.7777777777777778,\"#fb9f3a\"],[0.8888888888888888,\"#fdca26\"],[1.0,\"#f0f921\"]]}],\"surface\":[{\"type\":\"surface\",\"colorbar\":{\"outlinewidth\":0,\"ticks\":\"\"},\"colorscale\":[[0.0,\"#0d0887\"],[0.1111111111111111,\"#46039f\"],[0.2222222222222222,\"#7201a8\"],[0.3333333333333333,\"#9c179e\"],[0.4444444444444444,\"#bd3786\"],[0.5555555555555556,\"#d8576b\"],[0.6666666666666666,\"#ed7953\"],[0.7777777777777778,\"#fb9f3a\"],[0.8888888888888888,\"#fdca26\"],[1.0,\"#f0f921\"]]}],\"mesh3d\":[{\"type\":\"mesh3d\",\"colorbar\":{\"outlinewidth\":0,\"ticks\":\"\"}}],\"scatter\":[{\"fillpattern\":{\"fillmode\":\"overlay\",\"size\":10,\"solidity\":0.2},\"type\":\"scatter\"}],\"parcoords\":[{\"type\":\"parcoords\",\"line\":{\"colorbar\":{\"outlinewidth\":0,\"ticks\":\"\"}}}],\"scatterpolargl\":[{\"type\":\"scatterpolargl\",\"marker\":{\"colorbar\":{\"outlinewidth\":0,\"ticks\":\"\"}}}],\"bar\":[{\"error_x\":{\"color\":\"#2a3f5f\"},\"error_y\":{\"color\":\"#2a3f5f\"},\"marker\":{\"line\":{\"color\":\"#E5ECF6\",\"width\":0.5},\"pattern\":{\"fillmode\":\"overlay\",\"size\":10,\"solidity\":0.2}},\"type\":\"bar\"}],\"scattergeo\":[{\"type\":\"scattergeo\",\"marker\":{\"colorbar\":{\"outlinewidth\":0,\"ticks\":\"\"}}}],\"scatterpolar\":[{\"type\":\"scatterpolar\",\"marker\":{\"colorbar\":{\"outlinewidth\":0,\"ticks\":\"\"}}}],\"histogram\":[{\"marker\":{\"pattern\":{\"fillmode\":\"overlay\",\"size\":10,\"solidity\":0.2}},\"type\":\"histogram\"}],\"scattergl\":[{\"type\":\"scattergl\",\"marker\":{\"colorbar\":{\"outlinewidth\":0,\"ticks\":\"\"}}}],\"scatter3d\":[{\"type\":\"scatter3d\",\"line\":{\"colorbar\":{\"outlinewidth\":0,\"ticks\":\"\"}},\"marker\":{\"colorbar\":{\"outlinewidth\":0,\"ticks\":\"\"}}}],\"scattermapbox\":[{\"type\":\"scattermapbox\",\"marker\":{\"colorbar\":{\"outlinewidth\":0,\"ticks\":\"\"}}}],\"scatterternary\":[{\"type\":\"scatterternary\",\"marker\":{\"colorbar\":{\"outlinewidth\":0,\"ticks\":\"\"}}}],\"scattercarpet\":[{\"type\":\"scattercarpet\",\"marker\":{\"colorbar\":{\"outlinewidth\":0,\"ticks\":\"\"}}}],\"carpet\":[{\"aaxis\":{\"endlinecolor\":\"#2a3f5f\",\"gridcolor\":\"white\",\"linecolor\":\"white\",\"minorgridcolor\":\"white\",\"startlinecolor\":\"#2a3f5f\"},\"baxis\":{\"endlinecolor\":\"#2a3f5f\",\"gridcolor\":\"white\",\"linecolor\":\"white\",\"minorgridcolor\":\"white\",\"startlinecolor\":\"#2a3f5f\"},\"type\":\"carpet\"}],\"table\":[{\"cells\":{\"fill\":{\"color\":\"#EBF0F8\"},\"line\":{\"color\":\"white\"}},\"header\":{\"fill\":{\"color\":\"#C8D4E3\"},\"line\":{\"color\":\"white\"}},\"type\":\"table\"}],\"barpolar\":[{\"marker\":{\"line\":{\"color\":\"#E5ECF6\",\"width\":0.5},\"pattern\":{\"fillmode\":\"overlay\",\"size\":10,\"solidity\":0.2}},\"type\":\"barpolar\"}],\"pie\":[{\"automargin\":true,\"type\":\"pie\"}]},\"layout\":{\"autotypenumbers\":\"strict\",\"colorway\":[\"#636efa\",\"#EF553B\",\"#00cc96\",\"#ab63fa\",\"#FFA15A\",\"#19d3f3\",\"#FF6692\",\"#B6E880\",\"#FF97FF\",\"#FECB52\"],\"font\":{\"color\":\"#2a3f5f\"},\"hovermode\":\"closest\",\"hoverlabel\":{\"align\":\"left\"},\"paper_bgcolor\":\"white\",\"plot_bgcolor\":\"#E5ECF6\",\"polar\":{\"bgcolor\":\"#E5ECF6\",\"angularaxis\":{\"gridcolor\":\"white\",\"linecolor\":\"white\",\"ticks\":\"\"},\"radialaxis\":{\"gridcolor\":\"white\",\"linecolor\":\"white\",\"ticks\":\"\"}},\"ternary\":{\"bgcolor\":\"#E5ECF6\",\"aaxis\":{\"gridcolor\":\"white\",\"linecolor\":\"white\",\"ticks\":\"\"},\"baxis\":{\"gridcolor\":\"white\",\"linecolor\":\"white\",\"ticks\":\"\"},\"caxis\":{\"gridcolor\":\"white\",\"linecolor\":\"white\",\"ticks\":\"\"}},\"coloraxis\":{\"colorbar\":{\"outlinewidth\":0,\"ticks\":\"\"}},\"colorscale\":{\"sequential\":[[0.0,\"#0d0887\"],[0.1111111111111111,\"#46039f\"],[0.2222222222222222,\"#7201a8\"],[0.3333333333333333,\"#9c179e\"],[0.4444444444444444,\"#bd3786\"],[0.5555555555555556,\"#d8576b\"],[0.6666666666666666,\"#ed7953\"],[0.7777777777777778,\"#fb9f3a\"],[0.8888888888888888,\"#fdca26\"],[1.0,\"#f0f921\"]],\"sequentialminus\":[[0.0,\"#0d0887\"],[0.1111111111111111,\"#46039f\"],[0.2222222222222222,\"#7201a8\"],[0.3333333333333333,\"#9c179e\"],[0.4444444444444444,\"#bd3786\"],[0.5555555555555556,\"#d8576b\"],[0.6666666666666666,\"#ed7953\"],[0.7777777777777778,\"#fb9f3a\"],[0.8888888888888888,\"#fdca26\"],[1.0,\"#f0f921\"]],\"diverging\":[[0,\"#8e0152\"],[0.1,\"#c51b7d\"],[0.2,\"#de77ae\"],[0.3,\"#f1b6da\"],[0.4,\"#fde0ef\"],[0.5,\"#f7f7f7\"],[0.6,\"#e6f5d0\"],[0.7,\"#b8e186\"],[0.8,\"#7fbc41\"],[0.9,\"#4d9221\"],[1,\"#276419\"]]},\"xaxis\":{\"gridcolor\":\"white\",\"linecolor\":\"white\",\"ticks\":\"\",\"title\":{\"standoff\":15},\"zerolinecolor\":\"white\",\"automargin\":true,\"zerolinewidth\":2},\"yaxis\":{\"gridcolor\":\"white\",\"linecolor\":\"white\",\"ticks\":\"\",\"title\":{\"standoff\":15},\"zerolinecolor\":\"white\",\"automargin\":true,\"zerolinewidth\":2},\"scene\":{\"xaxis\":{\"backgroundcolor\":\"#E5ECF6\",\"gridcolor\":\"white\",\"linecolor\":\"white\",\"showbackground\":true,\"ticks\":\"\",\"zerolinecolor\":\"white\",\"gridwidth\":2},\"yaxis\":{\"backgroundcolor\":\"#E5ECF6\",\"gridcolor\":\"white\",\"linecolor\":\"white\",\"showbackground\":true,\"ticks\":\"\",\"zerolinecolor\":\"white\",\"gridwidth\":2},\"zaxis\":{\"backgroundcolor\":\"#E5ECF6\",\"gridcolor\":\"white\",\"linecolor\":\"white\",\"showbackground\":true,\"ticks\":\"\",\"zerolinecolor\":\"white\",\"gridwidth\":2}},\"shapedefaults\":{\"line\":{\"color\":\"#2a3f5f\"}},\"annotationdefaults\":{\"arrowcolor\":\"#2a3f5f\",\"arrowhead\":0,\"arrowwidth\":1},\"geo\":{\"bgcolor\":\"white\",\"landcolor\":\"#E5ECF6\",\"subunitcolor\":\"white\",\"showland\":true,\"showlakes\":true,\"lakecolor\":\"white\"},\"title\":{\"x\":0.05},\"mapbox\":{\"style\":\"light\"}}},\"geo\":{\"domain\":{\"x\":[0.0,1.0],\"y\":[0.0,1.0]},\"center\":{},\"scope\":\"world\"},\"coloraxis\":{\"colorbar\":{\"title\":{\"text\":\"Total Recovered\"}},\"colorscale\":[[0.0,\"rgb(253, 253, 204)\"],[0.09090909090909091,\"rgb(206, 236, 179)\"],[0.18181818181818182,\"rgb(156, 219, 165)\"],[0.2727272727272727,\"rgb(111, 201, 163)\"],[0.36363636363636365,\"rgb(86, 177, 163)\"],[0.45454545454545453,\"rgb(76, 153, 160)\"],[0.5454545454545454,\"rgb(68, 130, 155)\"],[0.6363636363636364,\"rgb(62, 108, 150)\"],[0.7272727272727273,\"rgb(62, 82, 143)\"],[0.8181818181818182,\"rgb(64, 60, 115)\"],[0.9090909090909091,\"rgb(54, 43, 77)\"],[1.0,\"rgb(39, 26, 44)\"]]},\"legend\":{\"tracegroupgap\":0,\"itemsizing\":\"constant\"},\"title\":{\"text\":\"Covid-19 Cases of recovery around the Globe 2022\"}},                        {\"responsive\": true}                    ).then(function(){\n",
       "                            \n",
       "var gd = document.getElementById('010799ba-03a5-4bd1-a7f0-3a6cc6136c1b');\n",
       "var x = new MutationObserver(function (mutations, observer) {{\n",
       "        var display = window.getComputedStyle(gd).display;\n",
       "        if (!display || display === 'none') {{\n",
       "            console.log([gd, 'removed!']);\n",
       "            Plotly.purge(gd);\n",
       "            observer.disconnect();\n",
       "        }}\n",
       "}});\n",
       "\n",
       "// Listen for the removal of the full notebook cells\n",
       "var notebookContainer = gd.closest('#notebook-container');\n",
       "if (notebookContainer) {{\n",
       "    x.observe(notebookContainer, {childList: true});\n",
       "}}\n",
       "\n",
       "// Listen for the clearing of the current output cell\n",
       "var outputEl = gd.closest('.output');\n",
       "if (outputEl) {{\n",
       "    x.observe(outputEl, {childList: true});\n",
       "}}\n",
       "\n",
       "                        })                };                });            </script>        </div>"
      ]
     },
     "metadata": {},
     "output_type": "display_data"
    }
   ],
   "source": [
    "fig = px.scatter_geo(df, locations='Country',locationmode=\"country names\",\n",
    "             scope=\"world\",color=\"Total Recovered\",size=\"Total Deaths\",\n",
    "             size_max=45,title=\"Covid-19 Cases of recovery around the Globe 2022\",color_continuous_scale='deep')\n",
    "fig.show()"
   ]
  }
 ],
 "metadata": {
  "kernelspec": {
   "display_name": "Python 3 (ipykernel)",
   "language": "python",
   "name": "python3"
  },
  "language_info": {
   "codemirror_mode": {
    "name": "ipython",
    "version": 3
   },
   "file_extension": ".py",
   "mimetype": "text/x-python",
   "name": "python",
   "nbconvert_exporter": "python",
   "pygments_lexer": "ipython3",
   "version": "3.9.16"
  },
  "toc": {
   "base_numbering": 1,
   "nav_menu": {},
   "number_sections": true,
   "sideBar": true,
   "skip_h1_title": false,
   "title_cell": "Table of Contents",
   "title_sidebar": "Contents",
   "toc_cell": false,
   "toc_position": {},
   "toc_section_display": true,
   "toc_window_display": false
  },
  "varInspector": {
   "cols": {
    "lenName": 16,
    "lenType": 16,
    "lenVar": 40
   },
   "kernels_config": {
    "python": {
     "delete_cmd_postfix": "",
     "delete_cmd_prefix": "del ",
     "library": "var_list.py",
     "varRefreshCmd": "print(var_dic_list())"
    },
    "r": {
     "delete_cmd_postfix": ") ",
     "delete_cmd_prefix": "rm(",
     "library": "var_list.r",
     "varRefreshCmd": "cat(var_dic_list()) "
    }
   },
   "types_to_exclude": [
    "module",
    "function",
    "builtin_function_or_method",
    "instance",
    "_Feature"
   ],
   "window_display": false
  }
 },
 "nbformat": 4,
 "nbformat_minor": 5
}
